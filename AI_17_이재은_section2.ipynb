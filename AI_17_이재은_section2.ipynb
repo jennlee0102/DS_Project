{
  "nbformat": 4,
  "nbformat_minor": 0,
  "metadata": {
    "colab": {
      "provenance": [],
      "mount_file_id": "19pm1AOJSnOPs910QwOMO6Kz_avQsfbOJ",
      "authorship_tag": "ABX9TyOcuSSEfQ2BNYpwbSN23S2X",
      "include_colab_link": true
    },
    "kernelspec": {
      "name": "python3",
      "display_name": "Python 3"
    },
    "language_info": {
      "name": "python"
    },
    "accelerator": "GPU",
    "gpuClass": "standard"
  },
  "cells": [
    {
      "cell_type": "markdown",
      "metadata": {
        "id": "view-in-github",
        "colab_type": "text"
      },
      "source": [
        "<a href=\"https://colab.research.google.com/github/jennlee0102/preview/blob/main/AI_17_%EC%9D%B4%EC%9E%AC%EC%9D%80_section2.ipynb\" target=\"_parent\"><img src=\"https://colab.research.google.com/assets/colab-badge.svg\" alt=\"Open In Colab\"/></a>"
      ]
    },
    {
      "cell_type": "code",
      "execution_count": null,
      "metadata": {
        "id": "mDtQof1E1swV",
        "colab": {
          "base_uri": "https://localhost:8080/"
        },
        "outputId": "3ac7bd5f-b987-4603-d6e3-94edad9b4e51"
      },
      "outputs": [
        {
          "output_type": "stream",
          "name": "stdout",
          "text": [
            "Looking in indexes: https://pypi.org/simple, https://us-python.pkg.dev/colab-wheels/public/simple/\n",
            "Requirement already satisfied: category_encoders in /usr/local/lib/python3.8/dist-packages (2.6.0)\n",
            "Requirement already satisfied: patsy>=0.5.1 in /usr/local/lib/python3.8/dist-packages (from category_encoders) (0.5.3)\n",
            "Requirement already satisfied: numpy>=1.14.0 in /usr/local/lib/python3.8/dist-packages (from category_encoders) (1.21.6)\n",
            "Requirement already satisfied: scipy>=1.0.0 in /usr/local/lib/python3.8/dist-packages (from category_encoders) (1.7.3)\n",
            "Requirement already satisfied: pandas>=1.0.5 in /usr/local/lib/python3.8/dist-packages (from category_encoders) (1.3.5)\n",
            "Requirement already satisfied: statsmodels>=0.9.0 in /usr/local/lib/python3.8/dist-packages (from category_encoders) (0.12.2)\n",
            "Requirement already satisfied: scikit-learn>=0.20.0 in /usr/local/lib/python3.8/dist-packages (from category_encoders) (1.0.2)\n",
            "Requirement already satisfied: python-dateutil>=2.7.3 in /usr/local/lib/python3.8/dist-packages (from pandas>=1.0.5->category_encoders) (2.8.2)\n",
            "Requirement already satisfied: pytz>=2017.3 in /usr/local/lib/python3.8/dist-packages (from pandas>=1.0.5->category_encoders) (2022.7.1)\n",
            "Requirement already satisfied: six in /usr/local/lib/python3.8/dist-packages (from patsy>=0.5.1->category_encoders) (1.15.0)\n",
            "Requirement already satisfied: threadpoolctl>=2.0.0 in /usr/local/lib/python3.8/dist-packages (from scikit-learn>=0.20.0->category_encoders) (3.1.0)\n",
            "Requirement already satisfied: joblib>=0.11 in /usr/local/lib/python3.8/dist-packages (from scikit-learn>=0.20.0->category_encoders) (1.2.0)\n"
          ]
        }
      ],
      "source": [
        "!pip install category_encoders"
      ]
    },
    {
      "cell_type": "code",
      "source": [
        "!pip install eli5 "
      ],
      "metadata": {
        "colab": {
          "base_uri": "https://localhost:8080/"
        },
        "id": "5okvlvVHjdx5",
        "outputId": "9ad5e90f-6d9c-4862-d78e-f6685fb96518"
      },
      "execution_count": null,
      "outputs": [
        {
          "output_type": "stream",
          "name": "stdout",
          "text": [
            "Looking in indexes: https://pypi.org/simple, https://us-python.pkg.dev/colab-wheels/public/simple/\n",
            "Requirement already satisfied: eli5 in /usr/local/lib/python3.8/dist-packages (0.13.0)\n",
            "Requirement already satisfied: numpy>=1.9.0 in /usr/local/lib/python3.8/dist-packages (from eli5) (1.21.6)\n",
            "Requirement already satisfied: tabulate>=0.7.7 in /usr/local/lib/python3.8/dist-packages (from eli5) (0.8.10)\n",
            "Requirement already satisfied: jinja2>=3.0.0 in /usr/local/lib/python3.8/dist-packages (from eli5) (3.1.2)\n",
            "Requirement already satisfied: attrs>17.1.0 in /usr/local/lib/python3.8/dist-packages (from eli5) (22.2.0)\n",
            "Requirement already satisfied: scipy in /usr/local/lib/python3.8/dist-packages (from eli5) (1.7.3)\n",
            "Requirement already satisfied: scikit-learn>=0.20 in /usr/local/lib/python3.8/dist-packages (from eli5) (1.0.2)\n",
            "Requirement already satisfied: graphviz in /usr/local/lib/python3.8/dist-packages (from eli5) (0.10.1)\n",
            "Requirement already satisfied: six in /usr/local/lib/python3.8/dist-packages (from eli5) (1.15.0)\n",
            "Requirement already satisfied: MarkupSafe>=2.0 in /usr/local/lib/python3.8/dist-packages (from jinja2>=3.0.0->eli5) (2.0.1)\n",
            "Requirement already satisfied: threadpoolctl>=2.0.0 in /usr/local/lib/python3.8/dist-packages (from scikit-learn>=0.20->eli5) (3.1.0)\n",
            "Requirement already satisfied: joblib>=0.11 in /usr/local/lib/python3.8/dist-packages (from scikit-learn>=0.20->eli5) (1.2.0)\n"
          ]
        }
      ]
    },
    {
      "cell_type": "code",
      "source": [
        "# pandas\n",
        "import pandas as pd\n",
        "\n",
        "# numpy\n",
        "import numpy as np\n",
        "from numpy import linalg\n",
        "\n",
        "# matplotlib\n",
        "import matplotlib.pyplot as plt\n",
        "import matplotlib.patches as mpatches\n",
        "from matplotlib import cm\n",
        "import matplotlib.font_manager as fm\n",
        "from matplotlib.ticker import LinearLocator\n",
        "\n",
        "# scipy\n",
        "from scipy import stats\n",
        "from scipy.stats import skew, kurtosis\n",
        "from scipy.cluster.hierarchy import dendrogram, linkage\n",
        "from scipy.cluster.hierarchy import cut_tree\n",
        "from scipy.misc import derivative\n",
        "\n",
        "# statsmodels\n",
        "import statsmodels.api as sm\n",
        "from statsmodels.formula.api import ols\n",
        "from statsmodels.stats.anova import anova_lm\n",
        "from statsmodels.stats.multicomp import pairwise_tukeyhsd\n",
        "from statsmodels.graphics.factorplots import interaction_plot\n",
        "\n",
        "# scikit-learn\n",
        "from sklearn import datasets\n",
        "from sklearn.cluster import KMeans\n",
        "from sklearn.decomposition import PCA\n",
        "from sklearn.ensemble import RandomForestClassifier\n",
        "from sklearn.feature_selection import f_regression, SelectKBest\n",
        "from sklearn.impute import SimpleImputer\n",
        "from sklearn.linear_model import LinearRegression, Ridge, Lasso, ElasticNet,RidgeCV, LassoCV, ElasticNetCV, LogisticRegression, LogisticRegressionCV\n",
        "from sklearn.metrics import r2_score, mean_absolute_error, mean_squared_error, accuracy_score, plot_confusion_matrix, confusion_matrix, \\\n",
        "  classification_report, recall_score, precision_score, f1_score, roc_auc_score, roc_curve, ConfusionMatrixDisplay\n",
        "from sklearn.model_selection import KFold, cross_val_score, train_test_split, GridSearchCV\n",
        "from sklearn.pipeline import make_pipeline\n",
        "from sklearn.preprocessing import StandardScaler, PolynomialFeatures, LabelEncoder\n",
        "from sklearn.tree import DecisionTreeClassifier, export_graphviz\n",
        "\n",
        "# eli5\n",
        "import eli5\n",
        "from eli5.sklearn import PermutationImportance\n",
        "\n",
        "# others\n",
        "import folium\n",
        "from folium.plugins import HeatMap\n",
        "import graphviz\n",
        "from xgboost import XGBClassifier\n",
        "import re\n",
        "import math\n",
        "import seaborn as sns\n",
        "from category_encoders import OrdinalEncoder\n",
        "from xgboost import XGBClassifier\n",
        "from imblearn.under_sampling import RandomUnderSampler\n",
        "from imblearn.over_sampling import SMOTE\n",
        "from collections import Counter"
      ],
      "metadata": {
        "id": "jZKwZ9ZH1xxw"
      },
      "execution_count": null,
      "outputs": []
    },
    {
      "cell_type": "markdown",
      "source": [
        "### Used Dataset\n",
        "1. Rat sighting dataset from https://data.cityofnewyork.us/Social-Services/311-Service-Requests-from-2010-to-Present/erm2-nwe9\n",
        "\n",
        "2. average income by borough from https://data.cccnewyork.org/data/table/66/median-incomes#66/107/62/a/a\n",
        "\n",
        "3. population density by borough from http://www.citypopulation.de/en/usa/newyorkcity/\n",
        "\n",
        "# Will I encounter rodent in NYC?\n",
        "\n",
        "1. Define a problem and the reason of the topic: <br>\n",
        "- Rodent issue is arising in NYC and the city mayor is struglling with removing the rats in the city. Let's find out the possibility to encounter the rat by any chance.<br>\n",
        "- A rat problem: Curbside overnight garbage disposal from residences, stores, subway and restaurants, as well as littering, contribute to the sustenance of the city's rats. Rats nearly always use the same routes to their food sources. Rat infestations have increased as a result of budget reductions and more wasteful disposal of food. [wikipedia](https://en.wikipedia.org/wiki/Rats_in_New_York_City#:~:text=Curbside%20overnight%20garbage%20disposal%20from,more%20wasteful%20disposal%20of%20food.)\n",
        "\n",
        "- And then we need to figure out which season the rats are most active so NYC can deal with it before the rats are infested.<br>\n",
        "\n",
        "- residence: residential area:1, non_residential:0"
      ],
      "metadata": {
        "id": "2ac--mc2109M"
      }
    },
    {
      "cell_type": "code",
      "source": [
        "from google.colab import drive\n",
        "drive.mount('/content/drive')\n",
        "\n",
        "df = pd.read_csv('/content/drive/MyDrive/Colab Notebooks/project/processed_311_Service_Requests_from_2010_to_Present.csv')\n",
        "df"
      ],
      "metadata": {
        "id": "GIFPR-Ie10QU",
        "colab": {
          "base_uri": "https://localhost:8080/",
          "height": 442
        },
        "outputId": "62683c08-0e4a-4268-d50d-ce0e02cd8e87"
      },
      "execution_count": null,
      "outputs": [
        {
          "output_type": "stream",
          "name": "stdout",
          "text": [
            "Drive already mounted at /content/drive; to attempt to forcibly remount, call drive.mount(\"/content/drive\", force_remount=True).\n"
          ]
        },
        {
          "output_type": "execute_result",
          "data": {
            "text/plain": [
              "              descriptor            created_date  \\\n",
              "0           Rat Sighting  01/18/2023 09:56:24 PM   \n",
              "1           Rat Sighting  01/18/2023 07:37:32 AM   \n",
              "2           Rat Sighting  01/18/2023 04:15:20 PM   \n",
              "3           Rat Sighting  01/24/2023 10:10:45 PM   \n",
              "4         Mouse Sighting  01/18/2023 09:23:56 PM   \n",
              "...                  ...                     ...   \n",
              "138617      Rat Sighting  01/18/2023 08:45:32 AM   \n",
              "138618      Rat Sighting  01/18/2023 04:21:45 AM   \n",
              "138619  Signs of Rodents  01/18/2023 09:36:07 AM   \n",
              "138620      Rat Sighting  01/25/2023 10:38:50 AM   \n",
              "138621      Rat Sighting  01/25/2023 08:03:36 AM   \n",
              "\n",
              "                       location_type  incident_zip      incident_address  \\\n",
              "0            3+ Family Apt. Building       10025.0  234 WEST  108 STREET   \n",
              "1            3+ Family Apt. Building       11237.0     618 IRVING AVENUE   \n",
              "2                1-2 Family Dwelling       10308.0   249 LINDENWOOD ROAD   \n",
              "3                  Construction Site       10024.0  117 WEST   79 STREET   \n",
              "4            3+ Family Apt. Building       10026.0   95 WEST  119 STREET   \n",
              "...                              ...           ...                   ...   \n",
              "138617               Vacant Building       11213.0         LINCOLN PLACE   \n",
              "138618         Other (Explain Below)       11220.0         314 59 STREET   \n",
              "138619  3+ Family Mixed Use Building       11368.0      35-13 109 STREET   \n",
              "138620           1-2 Family Dwelling       11233.0   253 SARATOGA AVENUE   \n",
              "138621       3+ Family Apt. Building       10024.0   29 WEST   88 STREET   \n",
              "\n",
              "                 city       status        borough   latitude  longitude  \n",
              "0            NEW YORK       Closed      MANHATTAN  40.802252 -73.965997  \n",
              "1            BROOKLYN       Closed       BROOKLYN  40.692512 -73.902968  \n",
              "2       STATEN ISLAND       Closed  STATEN ISLAND  40.544093 -74.149923  \n",
              "3            NEW YORK       Closed      MANHATTAN  40.782276 -73.976229  \n",
              "4            NEW YORK  In Progress      MANHATTAN  40.803802 -73.947881  \n",
              "...               ...          ...            ...        ...        ...  \n",
              "138617            NaN  In Progress       BROOKLYN        NaN        NaN  \n",
              "138618       BROOKLYN  In Progress       BROOKLYN  40.642239 -74.019195  \n",
              "138619         CORONA  In Progress         QUEENS  40.755220 -73.859095  \n",
              "138620       BROOKLYN  In Progress       BROOKLYN  40.677352 -73.916388  \n",
              "138621       NEW YORK  In Progress      MANHATTAN  40.787020 -73.969370  \n",
              "\n",
              "[138622 rows x 10 columns]"
            ],
            "text/html": [
              "\n",
              "  <div id=\"df-3fab182e-4b19-429a-a7ca-494f594c9141\">\n",
              "    <div class=\"colab-df-container\">\n",
              "      <div>\n",
              "<style scoped>\n",
              "    .dataframe tbody tr th:only-of-type {\n",
              "        vertical-align: middle;\n",
              "    }\n",
              "\n",
              "    .dataframe tbody tr th {\n",
              "        vertical-align: top;\n",
              "    }\n",
              "\n",
              "    .dataframe thead th {\n",
              "        text-align: right;\n",
              "    }\n",
              "</style>\n",
              "<table border=\"1\" class=\"dataframe\">\n",
              "  <thead>\n",
              "    <tr style=\"text-align: right;\">\n",
              "      <th></th>\n",
              "      <th>descriptor</th>\n",
              "      <th>created_date</th>\n",
              "      <th>location_type</th>\n",
              "      <th>incident_zip</th>\n",
              "      <th>incident_address</th>\n",
              "      <th>city</th>\n",
              "      <th>status</th>\n",
              "      <th>borough</th>\n",
              "      <th>latitude</th>\n",
              "      <th>longitude</th>\n",
              "    </tr>\n",
              "  </thead>\n",
              "  <tbody>\n",
              "    <tr>\n",
              "      <th>0</th>\n",
              "      <td>Rat Sighting</td>\n",
              "      <td>01/18/2023 09:56:24 PM</td>\n",
              "      <td>3+ Family Apt. Building</td>\n",
              "      <td>10025.0</td>\n",
              "      <td>234 WEST  108 STREET</td>\n",
              "      <td>NEW YORK</td>\n",
              "      <td>Closed</td>\n",
              "      <td>MANHATTAN</td>\n",
              "      <td>40.802252</td>\n",
              "      <td>-73.965997</td>\n",
              "    </tr>\n",
              "    <tr>\n",
              "      <th>1</th>\n",
              "      <td>Rat Sighting</td>\n",
              "      <td>01/18/2023 07:37:32 AM</td>\n",
              "      <td>3+ Family Apt. Building</td>\n",
              "      <td>11237.0</td>\n",
              "      <td>618 IRVING AVENUE</td>\n",
              "      <td>BROOKLYN</td>\n",
              "      <td>Closed</td>\n",
              "      <td>BROOKLYN</td>\n",
              "      <td>40.692512</td>\n",
              "      <td>-73.902968</td>\n",
              "    </tr>\n",
              "    <tr>\n",
              "      <th>2</th>\n",
              "      <td>Rat Sighting</td>\n",
              "      <td>01/18/2023 04:15:20 PM</td>\n",
              "      <td>1-2 Family Dwelling</td>\n",
              "      <td>10308.0</td>\n",
              "      <td>249 LINDENWOOD ROAD</td>\n",
              "      <td>STATEN ISLAND</td>\n",
              "      <td>Closed</td>\n",
              "      <td>STATEN ISLAND</td>\n",
              "      <td>40.544093</td>\n",
              "      <td>-74.149923</td>\n",
              "    </tr>\n",
              "    <tr>\n",
              "      <th>3</th>\n",
              "      <td>Rat Sighting</td>\n",
              "      <td>01/24/2023 10:10:45 PM</td>\n",
              "      <td>Construction Site</td>\n",
              "      <td>10024.0</td>\n",
              "      <td>117 WEST   79 STREET</td>\n",
              "      <td>NEW YORK</td>\n",
              "      <td>Closed</td>\n",
              "      <td>MANHATTAN</td>\n",
              "      <td>40.782276</td>\n",
              "      <td>-73.976229</td>\n",
              "    </tr>\n",
              "    <tr>\n",
              "      <th>4</th>\n",
              "      <td>Mouse Sighting</td>\n",
              "      <td>01/18/2023 09:23:56 PM</td>\n",
              "      <td>3+ Family Apt. Building</td>\n",
              "      <td>10026.0</td>\n",
              "      <td>95 WEST  119 STREET</td>\n",
              "      <td>NEW YORK</td>\n",
              "      <td>In Progress</td>\n",
              "      <td>MANHATTAN</td>\n",
              "      <td>40.803802</td>\n",
              "      <td>-73.947881</td>\n",
              "    </tr>\n",
              "    <tr>\n",
              "      <th>...</th>\n",
              "      <td>...</td>\n",
              "      <td>...</td>\n",
              "      <td>...</td>\n",
              "      <td>...</td>\n",
              "      <td>...</td>\n",
              "      <td>...</td>\n",
              "      <td>...</td>\n",
              "      <td>...</td>\n",
              "      <td>...</td>\n",
              "      <td>...</td>\n",
              "    </tr>\n",
              "    <tr>\n",
              "      <th>138617</th>\n",
              "      <td>Rat Sighting</td>\n",
              "      <td>01/18/2023 08:45:32 AM</td>\n",
              "      <td>Vacant Building</td>\n",
              "      <td>11213.0</td>\n",
              "      <td>LINCOLN PLACE</td>\n",
              "      <td>NaN</td>\n",
              "      <td>In Progress</td>\n",
              "      <td>BROOKLYN</td>\n",
              "      <td>NaN</td>\n",
              "      <td>NaN</td>\n",
              "    </tr>\n",
              "    <tr>\n",
              "      <th>138618</th>\n",
              "      <td>Rat Sighting</td>\n",
              "      <td>01/18/2023 04:21:45 AM</td>\n",
              "      <td>Other (Explain Below)</td>\n",
              "      <td>11220.0</td>\n",
              "      <td>314 59 STREET</td>\n",
              "      <td>BROOKLYN</td>\n",
              "      <td>In Progress</td>\n",
              "      <td>BROOKLYN</td>\n",
              "      <td>40.642239</td>\n",
              "      <td>-74.019195</td>\n",
              "    </tr>\n",
              "    <tr>\n",
              "      <th>138619</th>\n",
              "      <td>Signs of Rodents</td>\n",
              "      <td>01/18/2023 09:36:07 AM</td>\n",
              "      <td>3+ Family Mixed Use Building</td>\n",
              "      <td>11368.0</td>\n",
              "      <td>35-13 109 STREET</td>\n",
              "      <td>CORONA</td>\n",
              "      <td>In Progress</td>\n",
              "      <td>QUEENS</td>\n",
              "      <td>40.755220</td>\n",
              "      <td>-73.859095</td>\n",
              "    </tr>\n",
              "    <tr>\n",
              "      <th>138620</th>\n",
              "      <td>Rat Sighting</td>\n",
              "      <td>01/25/2023 10:38:50 AM</td>\n",
              "      <td>1-2 Family Dwelling</td>\n",
              "      <td>11233.0</td>\n",
              "      <td>253 SARATOGA AVENUE</td>\n",
              "      <td>BROOKLYN</td>\n",
              "      <td>In Progress</td>\n",
              "      <td>BROOKLYN</td>\n",
              "      <td>40.677352</td>\n",
              "      <td>-73.916388</td>\n",
              "    </tr>\n",
              "    <tr>\n",
              "      <th>138621</th>\n",
              "      <td>Rat Sighting</td>\n",
              "      <td>01/25/2023 08:03:36 AM</td>\n",
              "      <td>3+ Family Apt. Building</td>\n",
              "      <td>10024.0</td>\n",
              "      <td>29 WEST   88 STREET</td>\n",
              "      <td>NEW YORK</td>\n",
              "      <td>In Progress</td>\n",
              "      <td>MANHATTAN</td>\n",
              "      <td>40.787020</td>\n",
              "      <td>-73.969370</td>\n",
              "    </tr>\n",
              "  </tbody>\n",
              "</table>\n",
              "<p>138622 rows × 10 columns</p>\n",
              "</div>\n",
              "      <button class=\"colab-df-convert\" onclick=\"convertToInteractive('df-3fab182e-4b19-429a-a7ca-494f594c9141')\"\n",
              "              title=\"Convert this dataframe to an interactive table.\"\n",
              "              style=\"display:none;\">\n",
              "        \n",
              "  <svg xmlns=\"http://www.w3.org/2000/svg\" height=\"24px\"viewBox=\"0 0 24 24\"\n",
              "       width=\"24px\">\n",
              "    <path d=\"M0 0h24v24H0V0z\" fill=\"none\"/>\n",
              "    <path d=\"M18.56 5.44l.94 2.06.94-2.06 2.06-.94-2.06-.94-.94-2.06-.94 2.06-2.06.94zm-11 1L8.5 8.5l.94-2.06 2.06-.94-2.06-.94L8.5 2.5l-.94 2.06-2.06.94zm10 10l.94 2.06.94-2.06 2.06-.94-2.06-.94-.94-2.06-.94 2.06-2.06.94z\"/><path d=\"M17.41 7.96l-1.37-1.37c-.4-.4-.92-.59-1.43-.59-.52 0-1.04.2-1.43.59L10.3 9.45l-7.72 7.72c-.78.78-.78 2.05 0 2.83L4 21.41c.39.39.9.59 1.41.59.51 0 1.02-.2 1.41-.59l7.78-7.78 2.81-2.81c.8-.78.8-2.07 0-2.86zM5.41 20L4 18.59l7.72-7.72 1.47 1.35L5.41 20z\"/>\n",
              "  </svg>\n",
              "      </button>\n",
              "      \n",
              "  <style>\n",
              "    .colab-df-container {\n",
              "      display:flex;\n",
              "      flex-wrap:wrap;\n",
              "      gap: 12px;\n",
              "    }\n",
              "\n",
              "    .colab-df-convert {\n",
              "      background-color: #E8F0FE;\n",
              "      border: none;\n",
              "      border-radius: 50%;\n",
              "      cursor: pointer;\n",
              "      display: none;\n",
              "      fill: #1967D2;\n",
              "      height: 32px;\n",
              "      padding: 0 0 0 0;\n",
              "      width: 32px;\n",
              "    }\n",
              "\n",
              "    .colab-df-convert:hover {\n",
              "      background-color: #E2EBFA;\n",
              "      box-shadow: 0px 1px 2px rgba(60, 64, 67, 0.3), 0px 1px 3px 1px rgba(60, 64, 67, 0.15);\n",
              "      fill: #174EA6;\n",
              "    }\n",
              "\n",
              "    [theme=dark] .colab-df-convert {\n",
              "      background-color: #3B4455;\n",
              "      fill: #D2E3FC;\n",
              "    }\n",
              "\n",
              "    [theme=dark] .colab-df-convert:hover {\n",
              "      background-color: #434B5C;\n",
              "      box-shadow: 0px 1px 3px 1px rgba(0, 0, 0, 0.15);\n",
              "      filter: drop-shadow(0px 1px 2px rgba(0, 0, 0, 0.3));\n",
              "      fill: #FFFFFF;\n",
              "    }\n",
              "  </style>\n",
              "\n",
              "      <script>\n",
              "        const buttonEl =\n",
              "          document.querySelector('#df-3fab182e-4b19-429a-a7ca-494f594c9141 button.colab-df-convert');\n",
              "        buttonEl.style.display =\n",
              "          google.colab.kernel.accessAllowed ? 'block' : 'none';\n",
              "\n",
              "        async function convertToInteractive(key) {\n",
              "          const element = document.querySelector('#df-3fab182e-4b19-429a-a7ca-494f594c9141');\n",
              "          const dataTable =\n",
              "            await google.colab.kernel.invokeFunction('convertToInteractive',\n",
              "                                                     [key], {});\n",
              "          if (!dataTable) return;\n",
              "\n",
              "          const docLinkHtml = 'Like what you see? Visit the ' +\n",
              "            '<a target=\"_blank\" href=https://colab.research.google.com/notebooks/data_table.ipynb>data table notebook</a>'\n",
              "            + ' to learn more about interactive tables.';\n",
              "          element.innerHTML = '';\n",
              "          dataTable['output_type'] = 'display_data';\n",
              "          await google.colab.output.renderOutput(dataTable, element);\n",
              "          const docLink = document.createElement('div');\n",
              "          docLink.innerHTML = docLinkHtml;\n",
              "          element.appendChild(docLink);\n",
              "        }\n",
              "      </script>\n",
              "    </div>\n",
              "  </div>\n",
              "  "
            ]
          },
          "metadata": {},
          "execution_count": 51
        }
      ]
    },
    {
      "cell_type": "markdown",
      "source": [
        "## EDA & Feature Engineering"
      ],
      "metadata": {
        "id": "ccMMCUOeNjZD"
      }
    },
    {
      "cell_type": "code",
      "source": [
        "df.borough.unique()"
      ],
      "metadata": {
        "colab": {
          "base_uri": "https://localhost:8080/"
        },
        "id": "Qu5Zacr99wy-",
        "outputId": "59b762c5-2f62-4ea0-818c-e63b276baa72"
      },
      "execution_count": null,
      "outputs": [
        {
          "output_type": "execute_result",
          "data": {
            "text/plain": [
              "array(['MANHATTAN', 'BROOKLYN', 'STATEN ISLAND', 'BRONX', 'QUEENS',\n",
              "       'Unspecified', nan], dtype=object)"
            ]
          },
          "metadata": {},
          "execution_count": 52
        }
      ]
    },
    {
      "cell_type": "code",
      "source": [
        "# check nulls\n",
        "df.isnull().sum()"
      ],
      "metadata": {
        "colab": {
          "base_uri": "https://localhost:8080/"
        },
        "id": "oEJEd4lP_uHO",
        "outputId": "d6de24a0-2799-48c5-da90-5a6fc343af7e"
      },
      "execution_count": null,
      "outputs": [
        {
          "output_type": "execute_result",
          "data": {
            "text/plain": [
              "descriptor             0\n",
              "created_date           0\n",
              "location_type         18\n",
              "incident_zip          35\n",
              "incident_address     484\n",
              "city                3701\n",
              "status                 0\n",
              "borough                3\n",
              "latitude            1583\n",
              "longitude           1583\n",
              "dtype: int64"
            ]
          },
          "metadata": {},
          "execution_count": 53
        }
      ]
    },
    {
      "cell_type": "code",
      "source": [
        "# drop location_type nulls\n",
        "null_drop = df[(df['location_type'].isna()) | (df['borough'].isna())]\n",
        "df.drop(index=null_drop.index, inplace=True)\n",
        "# drop incident_address nulls\n",
        "drop = df[df['incident_address'].isna()]\n",
        "df.drop(index=drop.index, inplace=True)\n",
        "df.head()"
      ],
      "metadata": {
        "colab": {
          "base_uri": "https://localhost:8080/",
          "height": 206
        },
        "id": "_t2jwVnmBmQk",
        "outputId": "a23a8af3-95be-4504-a013-71224156c16e"
      },
      "execution_count": null,
      "outputs": [
        {
          "output_type": "execute_result",
          "data": {
            "text/plain": [
              "       descriptor            created_date            location_type  \\\n",
              "0    Rat Sighting  01/18/2023 09:56:24 PM  3+ Family Apt. Building   \n",
              "1    Rat Sighting  01/18/2023 07:37:32 AM  3+ Family Apt. Building   \n",
              "2    Rat Sighting  01/18/2023 04:15:20 PM      1-2 Family Dwelling   \n",
              "3    Rat Sighting  01/24/2023 10:10:45 PM        Construction Site   \n",
              "4  Mouse Sighting  01/18/2023 09:23:56 PM  3+ Family Apt. Building   \n",
              "\n",
              "   incident_zip      incident_address           city       status  \\\n",
              "0       10025.0  234 WEST  108 STREET       NEW YORK       Closed   \n",
              "1       11237.0     618 IRVING AVENUE       BROOKLYN       Closed   \n",
              "2       10308.0   249 LINDENWOOD ROAD  STATEN ISLAND       Closed   \n",
              "3       10024.0  117 WEST   79 STREET       NEW YORK       Closed   \n",
              "4       10026.0   95 WEST  119 STREET       NEW YORK  In Progress   \n",
              "\n",
              "         borough   latitude  longitude  \n",
              "0      MANHATTAN  40.802252 -73.965997  \n",
              "1       BROOKLYN  40.692512 -73.902968  \n",
              "2  STATEN ISLAND  40.544093 -74.149923  \n",
              "3      MANHATTAN  40.782276 -73.976229  \n",
              "4      MANHATTAN  40.803802 -73.947881  "
            ],
            "text/html": [
              "\n",
              "  <div id=\"df-be1f588f-f744-4ce1-a7da-dd4b59e5e988\">\n",
              "    <div class=\"colab-df-container\">\n",
              "      <div>\n",
              "<style scoped>\n",
              "    .dataframe tbody tr th:only-of-type {\n",
              "        vertical-align: middle;\n",
              "    }\n",
              "\n",
              "    .dataframe tbody tr th {\n",
              "        vertical-align: top;\n",
              "    }\n",
              "\n",
              "    .dataframe thead th {\n",
              "        text-align: right;\n",
              "    }\n",
              "</style>\n",
              "<table border=\"1\" class=\"dataframe\">\n",
              "  <thead>\n",
              "    <tr style=\"text-align: right;\">\n",
              "      <th></th>\n",
              "      <th>descriptor</th>\n",
              "      <th>created_date</th>\n",
              "      <th>location_type</th>\n",
              "      <th>incident_zip</th>\n",
              "      <th>incident_address</th>\n",
              "      <th>city</th>\n",
              "      <th>status</th>\n",
              "      <th>borough</th>\n",
              "      <th>latitude</th>\n",
              "      <th>longitude</th>\n",
              "    </tr>\n",
              "  </thead>\n",
              "  <tbody>\n",
              "    <tr>\n",
              "      <th>0</th>\n",
              "      <td>Rat Sighting</td>\n",
              "      <td>01/18/2023 09:56:24 PM</td>\n",
              "      <td>3+ Family Apt. Building</td>\n",
              "      <td>10025.0</td>\n",
              "      <td>234 WEST  108 STREET</td>\n",
              "      <td>NEW YORK</td>\n",
              "      <td>Closed</td>\n",
              "      <td>MANHATTAN</td>\n",
              "      <td>40.802252</td>\n",
              "      <td>-73.965997</td>\n",
              "    </tr>\n",
              "    <tr>\n",
              "      <th>1</th>\n",
              "      <td>Rat Sighting</td>\n",
              "      <td>01/18/2023 07:37:32 AM</td>\n",
              "      <td>3+ Family Apt. Building</td>\n",
              "      <td>11237.0</td>\n",
              "      <td>618 IRVING AVENUE</td>\n",
              "      <td>BROOKLYN</td>\n",
              "      <td>Closed</td>\n",
              "      <td>BROOKLYN</td>\n",
              "      <td>40.692512</td>\n",
              "      <td>-73.902968</td>\n",
              "    </tr>\n",
              "    <tr>\n",
              "      <th>2</th>\n",
              "      <td>Rat Sighting</td>\n",
              "      <td>01/18/2023 04:15:20 PM</td>\n",
              "      <td>1-2 Family Dwelling</td>\n",
              "      <td>10308.0</td>\n",
              "      <td>249 LINDENWOOD ROAD</td>\n",
              "      <td>STATEN ISLAND</td>\n",
              "      <td>Closed</td>\n",
              "      <td>STATEN ISLAND</td>\n",
              "      <td>40.544093</td>\n",
              "      <td>-74.149923</td>\n",
              "    </tr>\n",
              "    <tr>\n",
              "      <th>3</th>\n",
              "      <td>Rat Sighting</td>\n",
              "      <td>01/24/2023 10:10:45 PM</td>\n",
              "      <td>Construction Site</td>\n",
              "      <td>10024.0</td>\n",
              "      <td>117 WEST   79 STREET</td>\n",
              "      <td>NEW YORK</td>\n",
              "      <td>Closed</td>\n",
              "      <td>MANHATTAN</td>\n",
              "      <td>40.782276</td>\n",
              "      <td>-73.976229</td>\n",
              "    </tr>\n",
              "    <tr>\n",
              "      <th>4</th>\n",
              "      <td>Mouse Sighting</td>\n",
              "      <td>01/18/2023 09:23:56 PM</td>\n",
              "      <td>3+ Family Apt. Building</td>\n",
              "      <td>10026.0</td>\n",
              "      <td>95 WEST  119 STREET</td>\n",
              "      <td>NEW YORK</td>\n",
              "      <td>In Progress</td>\n",
              "      <td>MANHATTAN</td>\n",
              "      <td>40.803802</td>\n",
              "      <td>-73.947881</td>\n",
              "    </tr>\n",
              "  </tbody>\n",
              "</table>\n",
              "</div>\n",
              "      <button class=\"colab-df-convert\" onclick=\"convertToInteractive('df-be1f588f-f744-4ce1-a7da-dd4b59e5e988')\"\n",
              "              title=\"Convert this dataframe to an interactive table.\"\n",
              "              style=\"display:none;\">\n",
              "        \n",
              "  <svg xmlns=\"http://www.w3.org/2000/svg\" height=\"24px\"viewBox=\"0 0 24 24\"\n",
              "       width=\"24px\">\n",
              "    <path d=\"M0 0h24v24H0V0z\" fill=\"none\"/>\n",
              "    <path d=\"M18.56 5.44l.94 2.06.94-2.06 2.06-.94-2.06-.94-.94-2.06-.94 2.06-2.06.94zm-11 1L8.5 8.5l.94-2.06 2.06-.94-2.06-.94L8.5 2.5l-.94 2.06-2.06.94zm10 10l.94 2.06.94-2.06 2.06-.94-2.06-.94-.94-2.06-.94 2.06-2.06.94z\"/><path d=\"M17.41 7.96l-1.37-1.37c-.4-.4-.92-.59-1.43-.59-.52 0-1.04.2-1.43.59L10.3 9.45l-7.72 7.72c-.78.78-.78 2.05 0 2.83L4 21.41c.39.39.9.59 1.41.59.51 0 1.02-.2 1.41-.59l7.78-7.78 2.81-2.81c.8-.78.8-2.07 0-2.86zM5.41 20L4 18.59l7.72-7.72 1.47 1.35L5.41 20z\"/>\n",
              "  </svg>\n",
              "      </button>\n",
              "      \n",
              "  <style>\n",
              "    .colab-df-container {\n",
              "      display:flex;\n",
              "      flex-wrap:wrap;\n",
              "      gap: 12px;\n",
              "    }\n",
              "\n",
              "    .colab-df-convert {\n",
              "      background-color: #E8F0FE;\n",
              "      border: none;\n",
              "      border-radius: 50%;\n",
              "      cursor: pointer;\n",
              "      display: none;\n",
              "      fill: #1967D2;\n",
              "      height: 32px;\n",
              "      padding: 0 0 0 0;\n",
              "      width: 32px;\n",
              "    }\n",
              "\n",
              "    .colab-df-convert:hover {\n",
              "      background-color: #E2EBFA;\n",
              "      box-shadow: 0px 1px 2px rgba(60, 64, 67, 0.3), 0px 1px 3px 1px rgba(60, 64, 67, 0.15);\n",
              "      fill: #174EA6;\n",
              "    }\n",
              "\n",
              "    [theme=dark] .colab-df-convert {\n",
              "      background-color: #3B4455;\n",
              "      fill: #D2E3FC;\n",
              "    }\n",
              "\n",
              "    [theme=dark] .colab-df-convert:hover {\n",
              "      background-color: #434B5C;\n",
              "      box-shadow: 0px 1px 3px 1px rgba(0, 0, 0, 0.15);\n",
              "      filter: drop-shadow(0px 1px 2px rgba(0, 0, 0, 0.3));\n",
              "      fill: #FFFFFF;\n",
              "    }\n",
              "  </style>\n",
              "\n",
              "      <script>\n",
              "        const buttonEl =\n",
              "          document.querySelector('#df-be1f588f-f744-4ce1-a7da-dd4b59e5e988 button.colab-df-convert');\n",
              "        buttonEl.style.display =\n",
              "          google.colab.kernel.accessAllowed ? 'block' : 'none';\n",
              "\n",
              "        async function convertToInteractive(key) {\n",
              "          const element = document.querySelector('#df-be1f588f-f744-4ce1-a7da-dd4b59e5e988');\n",
              "          const dataTable =\n",
              "            await google.colab.kernel.invokeFunction('convertToInteractive',\n",
              "                                                     [key], {});\n",
              "          if (!dataTable) return;\n",
              "\n",
              "          const docLinkHtml = 'Like what you see? Visit the ' +\n",
              "            '<a target=\"_blank\" href=https://colab.research.google.com/notebooks/data_table.ipynb>data table notebook</a>'\n",
              "            + ' to learn more about interactive tables.';\n",
              "          element.innerHTML = '';\n",
              "          dataTable['output_type'] = 'display_data';\n",
              "          await google.colab.output.renderOutput(dataTable, element);\n",
              "          const docLink = document.createElement('div');\n",
              "          docLink.innerHTML = docLinkHtml;\n",
              "          element.appendChild(docLink);\n",
              "        }\n",
              "      </script>\n",
              "    </div>\n",
              "  </div>\n",
              "  "
            ]
          },
          "metadata": {},
          "execution_count": 54
        }
      ]
    },
    {
      "cell_type": "code",
      "source": [
        "# 1. first preprocessing: fillna\n",
        "df[\"incident_zip\"].fillna(df[\"incident_zip\"].mode()[0],inplace=True)\n",
        "df[\"city\"].fillna(df[\"city\"].mode()[0],inplace=True)\n",
        "df[\"latitude\"].fillna(df[\"latitude\"].mean(),inplace=True)\n",
        "df[\"longitude\"].fillna(df[\"longitude\"].mean(),inplace=True)\n",
        "\n",
        "df.isnull().sum()"
      ],
      "metadata": {
        "colab": {
          "base_uri": "https://localhost:8080/"
        },
        "id": "VlKsGXgw_opp",
        "outputId": "1c2b12c4-11c8-47c1-942a-10677580bd9f"
      },
      "execution_count": null,
      "outputs": [
        {
          "output_type": "execute_result",
          "data": {
            "text/plain": [
              "descriptor          0\n",
              "created_date        0\n",
              "location_type       0\n",
              "incident_zip        0\n",
              "incident_address    0\n",
              "city                0\n",
              "status              0\n",
              "borough             0\n",
              "latitude            0\n",
              "longitude           0\n",
              "dtype: int64"
            ]
          },
          "metadata": {},
          "execution_count": 55
        }
      ]
    },
    {
      "cell_type": "code",
      "source": [
        "df.descriptor.unique()"
      ],
      "metadata": {
        "colab": {
          "base_uri": "https://localhost:8080/"
        },
        "id": "2-CSpgaZG2mZ",
        "outputId": "26875e96-19ce-4922-b220-93d0fe80a8f9"
      },
      "execution_count": null,
      "outputs": [
        {
          "output_type": "execute_result",
          "data": {
            "text/plain": [
              "array(['Rat Sighting', 'Mouse Sighting', 'Condition Attracting Rodents',\n",
              "       'Signs of Rodents', 'Rodent Bite - PCS Only'], dtype=object)"
            ]
          },
          "metadata": {},
          "execution_count": 56
        }
      ]
    },
    {
      "cell_type": "code",
      "source": [
        "df.info()"
      ],
      "metadata": {
        "colab": {
          "base_uri": "https://localhost:8080/"
        },
        "id": "X-9rS7f4oY51",
        "outputId": "9dd54bdc-efee-42ef-e159-7d981013acef"
      },
      "execution_count": null,
      "outputs": [
        {
          "output_type": "stream",
          "name": "stdout",
          "text": [
            "<class 'pandas.core.frame.DataFrame'>\n",
            "Int64Index: 138118 entries, 0 to 138621\n",
            "Data columns (total 10 columns):\n",
            " #   Column            Non-Null Count   Dtype  \n",
            "---  ------            --------------   -----  \n",
            " 0   descriptor        138118 non-null  object \n",
            " 1   created_date      138118 non-null  object \n",
            " 2   location_type     138118 non-null  object \n",
            " 3   incident_zip      138118 non-null  float64\n",
            " 4   incident_address  138118 non-null  object \n",
            " 5   city              138118 non-null  object \n",
            " 6   status            138118 non-null  object \n",
            " 7   borough           138118 non-null  object \n",
            " 8   latitude          138118 non-null  float64\n",
            " 9   longitude         138118 non-null  float64\n",
            "dtypes: float64(3), object(7)\n",
            "memory usage: 11.6+ MB\n"
          ]
        }
      ]
    },
    {
      "cell_type": "code",
      "source": [
        "# 2. second preprocessing: extract data that I will use\n",
        "# drop columns\n",
        "df.drop(columns='incident_address',axis=1)\n",
        "\n",
        "# drop rows with the unspecified borough\n",
        "df=df[df['borough']!='Unspecified']\n",
        "\n",
        "# zipcode dtype change to int\n",
        "df=df.astype({'incident_zip':'object'})\n",
        "\n",
        "# create month column and then mapping to season\n",
        "df['incident_date'] = pd.to_datetime(df['created_date'])\n",
        "df['incident_year'] = df['incident_date'].dt.year\n",
        "df['incident_month'] = df['incident_date'].dt.month\n",
        "\n",
        "# borough code\n",
        "borocode = {'BROOKLYN':3, 'MANHATTAN':1, 'BRONX':2, 'QUEENS':4, 'STATEN ISLAND':5} \n",
        "df['boro_code'] = df['borough'].map(borocode)\n",
        "\n",
        "# spring (March-May), summer (June-August), autumn (September-November) and winter (December-February)\n",
        "initial_dict = {12.0:'winter', 1.0:'winter', 2.0:'winter', 3.0:'spring', 4.0:'spring', 5.0:'spring',\n",
        "                6.0:'summer', 7.0:'summer', 8.0:'summer', 9.0:'autumn', 10.0:'autumn', 11.0:'autumn'}\n",
        "df['season'] = df['incident_month'].map(initial_dict)\n",
        "\n",
        "# # target=temperature\n",
        "# initial_dict1 = {12.0:'cold', 1.0:'cold', 2.0:'cold', 3.0:'cold', 4.0:'cold', 5.0:'hot',\n",
        "#                 6.0:'hot', 7.0:'hot', 8.0:'hot', 9.0:'hot', 10.0:'hot', 11.0:'cold'}\n",
        "# df['temp'] = df['incident_month'].map(initial_dict1)\n",
        "\n",
        "# average income by borough\n",
        "# income = {'BROOKLYN':2, 'MANHATTAN':5, 'BRONX':1, 'QUEENS':3, 'STATEN ISLAND':4}\n",
        "income = {'BROOKLYN':66937, 'MANHATTAN':93651, 'BRONX':41432, 'QUEENS':73696, 'STATEN ISLAND':89821}\n",
        "df['avg_income'] = df['borough'].map(income)\n",
        "\n",
        "# population density by borough\n",
        "# (14,698 + 26,873 + 13,046 + 8,278 + 3,312)/5=13241\n",
        "# density = {'BROOKLYN':4, 'MANHATTAN':5, 'BRONX':3, 'QUEENS':2, 'STATEN ISLAND':1}\n",
        "density = {'BROOKLYN':14698, 'MANHATTAN':26873, 'BRONX':13046, 'QUEENS':8278, 'STATEN ISLAND':3312}\n",
        "df['density'] = df['borough'].map(density)\n",
        "\n",
        "df.head()"
      ],
      "metadata": {
        "colab": {
          "base_uri": "https://localhost:8080/",
          "height": 357
        },
        "id": "dOKep0ffDC98",
        "outputId": "abb60d0c-9cad-4d71-f995-1471a1dbf759"
      },
      "execution_count": null,
      "outputs": [
        {
          "output_type": "execute_result",
          "data": {
            "text/plain": [
              "       descriptor            created_date            location_type  \\\n",
              "0    Rat Sighting  01/18/2023 09:56:24 PM  3+ Family Apt. Building   \n",
              "1    Rat Sighting  01/18/2023 07:37:32 AM  3+ Family Apt. Building   \n",
              "2    Rat Sighting  01/18/2023 04:15:20 PM      1-2 Family Dwelling   \n",
              "3    Rat Sighting  01/24/2023 10:10:45 PM        Construction Site   \n",
              "4  Mouse Sighting  01/18/2023 09:23:56 PM  3+ Family Apt. Building   \n",
              "\n",
              "  incident_zip      incident_address           city       status  \\\n",
              "0      10025.0  234 WEST  108 STREET       NEW YORK       Closed   \n",
              "1      11237.0     618 IRVING AVENUE       BROOKLYN       Closed   \n",
              "2      10308.0   249 LINDENWOOD ROAD  STATEN ISLAND       Closed   \n",
              "3      10024.0  117 WEST   79 STREET       NEW YORK       Closed   \n",
              "4      10026.0   95 WEST  119 STREET       NEW YORK  In Progress   \n",
              "\n",
              "         borough   latitude  longitude       incident_date  incident_year  \\\n",
              "0      MANHATTAN  40.802252 -73.965997 2023-01-18 21:56:24           2023   \n",
              "1       BROOKLYN  40.692512 -73.902968 2023-01-18 07:37:32           2023   \n",
              "2  STATEN ISLAND  40.544093 -74.149923 2023-01-18 16:15:20           2023   \n",
              "3      MANHATTAN  40.782276 -73.976229 2023-01-24 22:10:45           2023   \n",
              "4      MANHATTAN  40.803802 -73.947881 2023-01-18 21:23:56           2023   \n",
              "\n",
              "   incident_month  boro_code  season  avg_income  density  \n",
              "0               1          1  winter       93651    26873  \n",
              "1               1          3  winter       66937    14698  \n",
              "2               1          5  winter       89821     3312  \n",
              "3               1          1  winter       93651    26873  \n",
              "4               1          1  winter       93651    26873  "
            ],
            "text/html": [
              "\n",
              "  <div id=\"df-f570efcb-0e77-4b80-92ad-d188bcb8b2e4\">\n",
              "    <div class=\"colab-df-container\">\n",
              "      <div>\n",
              "<style scoped>\n",
              "    .dataframe tbody tr th:only-of-type {\n",
              "        vertical-align: middle;\n",
              "    }\n",
              "\n",
              "    .dataframe tbody tr th {\n",
              "        vertical-align: top;\n",
              "    }\n",
              "\n",
              "    .dataframe thead th {\n",
              "        text-align: right;\n",
              "    }\n",
              "</style>\n",
              "<table border=\"1\" class=\"dataframe\">\n",
              "  <thead>\n",
              "    <tr style=\"text-align: right;\">\n",
              "      <th></th>\n",
              "      <th>descriptor</th>\n",
              "      <th>created_date</th>\n",
              "      <th>location_type</th>\n",
              "      <th>incident_zip</th>\n",
              "      <th>incident_address</th>\n",
              "      <th>city</th>\n",
              "      <th>status</th>\n",
              "      <th>borough</th>\n",
              "      <th>latitude</th>\n",
              "      <th>longitude</th>\n",
              "      <th>incident_date</th>\n",
              "      <th>incident_year</th>\n",
              "      <th>incident_month</th>\n",
              "      <th>boro_code</th>\n",
              "      <th>season</th>\n",
              "      <th>avg_income</th>\n",
              "      <th>density</th>\n",
              "    </tr>\n",
              "  </thead>\n",
              "  <tbody>\n",
              "    <tr>\n",
              "      <th>0</th>\n",
              "      <td>Rat Sighting</td>\n",
              "      <td>01/18/2023 09:56:24 PM</td>\n",
              "      <td>3+ Family Apt. Building</td>\n",
              "      <td>10025.0</td>\n",
              "      <td>234 WEST  108 STREET</td>\n",
              "      <td>NEW YORK</td>\n",
              "      <td>Closed</td>\n",
              "      <td>MANHATTAN</td>\n",
              "      <td>40.802252</td>\n",
              "      <td>-73.965997</td>\n",
              "      <td>2023-01-18 21:56:24</td>\n",
              "      <td>2023</td>\n",
              "      <td>1</td>\n",
              "      <td>1</td>\n",
              "      <td>winter</td>\n",
              "      <td>93651</td>\n",
              "      <td>26873</td>\n",
              "    </tr>\n",
              "    <tr>\n",
              "      <th>1</th>\n",
              "      <td>Rat Sighting</td>\n",
              "      <td>01/18/2023 07:37:32 AM</td>\n",
              "      <td>3+ Family Apt. Building</td>\n",
              "      <td>11237.0</td>\n",
              "      <td>618 IRVING AVENUE</td>\n",
              "      <td>BROOKLYN</td>\n",
              "      <td>Closed</td>\n",
              "      <td>BROOKLYN</td>\n",
              "      <td>40.692512</td>\n",
              "      <td>-73.902968</td>\n",
              "      <td>2023-01-18 07:37:32</td>\n",
              "      <td>2023</td>\n",
              "      <td>1</td>\n",
              "      <td>3</td>\n",
              "      <td>winter</td>\n",
              "      <td>66937</td>\n",
              "      <td>14698</td>\n",
              "    </tr>\n",
              "    <tr>\n",
              "      <th>2</th>\n",
              "      <td>Rat Sighting</td>\n",
              "      <td>01/18/2023 04:15:20 PM</td>\n",
              "      <td>1-2 Family Dwelling</td>\n",
              "      <td>10308.0</td>\n",
              "      <td>249 LINDENWOOD ROAD</td>\n",
              "      <td>STATEN ISLAND</td>\n",
              "      <td>Closed</td>\n",
              "      <td>STATEN ISLAND</td>\n",
              "      <td>40.544093</td>\n",
              "      <td>-74.149923</td>\n",
              "      <td>2023-01-18 16:15:20</td>\n",
              "      <td>2023</td>\n",
              "      <td>1</td>\n",
              "      <td>5</td>\n",
              "      <td>winter</td>\n",
              "      <td>89821</td>\n",
              "      <td>3312</td>\n",
              "    </tr>\n",
              "    <tr>\n",
              "      <th>3</th>\n",
              "      <td>Rat Sighting</td>\n",
              "      <td>01/24/2023 10:10:45 PM</td>\n",
              "      <td>Construction Site</td>\n",
              "      <td>10024.0</td>\n",
              "      <td>117 WEST   79 STREET</td>\n",
              "      <td>NEW YORK</td>\n",
              "      <td>Closed</td>\n",
              "      <td>MANHATTAN</td>\n",
              "      <td>40.782276</td>\n",
              "      <td>-73.976229</td>\n",
              "      <td>2023-01-24 22:10:45</td>\n",
              "      <td>2023</td>\n",
              "      <td>1</td>\n",
              "      <td>1</td>\n",
              "      <td>winter</td>\n",
              "      <td>93651</td>\n",
              "      <td>26873</td>\n",
              "    </tr>\n",
              "    <tr>\n",
              "      <th>4</th>\n",
              "      <td>Mouse Sighting</td>\n",
              "      <td>01/18/2023 09:23:56 PM</td>\n",
              "      <td>3+ Family Apt. Building</td>\n",
              "      <td>10026.0</td>\n",
              "      <td>95 WEST  119 STREET</td>\n",
              "      <td>NEW YORK</td>\n",
              "      <td>In Progress</td>\n",
              "      <td>MANHATTAN</td>\n",
              "      <td>40.803802</td>\n",
              "      <td>-73.947881</td>\n",
              "      <td>2023-01-18 21:23:56</td>\n",
              "      <td>2023</td>\n",
              "      <td>1</td>\n",
              "      <td>1</td>\n",
              "      <td>winter</td>\n",
              "      <td>93651</td>\n",
              "      <td>26873</td>\n",
              "    </tr>\n",
              "  </tbody>\n",
              "</table>\n",
              "</div>\n",
              "      <button class=\"colab-df-convert\" onclick=\"convertToInteractive('df-f570efcb-0e77-4b80-92ad-d188bcb8b2e4')\"\n",
              "              title=\"Convert this dataframe to an interactive table.\"\n",
              "              style=\"display:none;\">\n",
              "        \n",
              "  <svg xmlns=\"http://www.w3.org/2000/svg\" height=\"24px\"viewBox=\"0 0 24 24\"\n",
              "       width=\"24px\">\n",
              "    <path d=\"M0 0h24v24H0V0z\" fill=\"none\"/>\n",
              "    <path d=\"M18.56 5.44l.94 2.06.94-2.06 2.06-.94-2.06-.94-.94-2.06-.94 2.06-2.06.94zm-11 1L8.5 8.5l.94-2.06 2.06-.94-2.06-.94L8.5 2.5l-.94 2.06-2.06.94zm10 10l.94 2.06.94-2.06 2.06-.94-2.06-.94-.94-2.06-.94 2.06-2.06.94z\"/><path d=\"M17.41 7.96l-1.37-1.37c-.4-.4-.92-.59-1.43-.59-.52 0-1.04.2-1.43.59L10.3 9.45l-7.72 7.72c-.78.78-.78 2.05 0 2.83L4 21.41c.39.39.9.59 1.41.59.51 0 1.02-.2 1.41-.59l7.78-7.78 2.81-2.81c.8-.78.8-2.07 0-2.86zM5.41 20L4 18.59l7.72-7.72 1.47 1.35L5.41 20z\"/>\n",
              "  </svg>\n",
              "      </button>\n",
              "      \n",
              "  <style>\n",
              "    .colab-df-container {\n",
              "      display:flex;\n",
              "      flex-wrap:wrap;\n",
              "      gap: 12px;\n",
              "    }\n",
              "\n",
              "    .colab-df-convert {\n",
              "      background-color: #E8F0FE;\n",
              "      border: none;\n",
              "      border-radius: 50%;\n",
              "      cursor: pointer;\n",
              "      display: none;\n",
              "      fill: #1967D2;\n",
              "      height: 32px;\n",
              "      padding: 0 0 0 0;\n",
              "      width: 32px;\n",
              "    }\n",
              "\n",
              "    .colab-df-convert:hover {\n",
              "      background-color: #E2EBFA;\n",
              "      box-shadow: 0px 1px 2px rgba(60, 64, 67, 0.3), 0px 1px 3px 1px rgba(60, 64, 67, 0.15);\n",
              "      fill: #174EA6;\n",
              "    }\n",
              "\n",
              "    [theme=dark] .colab-df-convert {\n",
              "      background-color: #3B4455;\n",
              "      fill: #D2E3FC;\n",
              "    }\n",
              "\n",
              "    [theme=dark] .colab-df-convert:hover {\n",
              "      background-color: #434B5C;\n",
              "      box-shadow: 0px 1px 3px 1px rgba(0, 0, 0, 0.15);\n",
              "      filter: drop-shadow(0px 1px 2px rgba(0, 0, 0, 0.3));\n",
              "      fill: #FFFFFF;\n",
              "    }\n",
              "  </style>\n",
              "\n",
              "      <script>\n",
              "        const buttonEl =\n",
              "          document.querySelector('#df-f570efcb-0e77-4b80-92ad-d188bcb8b2e4 button.colab-df-convert');\n",
              "        buttonEl.style.display =\n",
              "          google.colab.kernel.accessAllowed ? 'block' : 'none';\n",
              "\n",
              "        async function convertToInteractive(key) {\n",
              "          const element = document.querySelector('#df-f570efcb-0e77-4b80-92ad-d188bcb8b2e4');\n",
              "          const dataTable =\n",
              "            await google.colab.kernel.invokeFunction('convertToInteractive',\n",
              "                                                     [key], {});\n",
              "          if (!dataTable) return;\n",
              "\n",
              "          const docLinkHtml = 'Like what you see? Visit the ' +\n",
              "            '<a target=\"_blank\" href=https://colab.research.google.com/notebooks/data_table.ipynb>data table notebook</a>'\n",
              "            + ' to learn more about interactive tables.';\n",
              "          element.innerHTML = '';\n",
              "          dataTable['output_type'] = 'display_data';\n",
              "          await google.colab.output.renderOutput(dataTable, element);\n",
              "          const docLink = document.createElement('div');\n",
              "          docLink.innerHTML = docLinkHtml;\n",
              "          element.appendChild(docLink);\n",
              "        }\n",
              "      </script>\n",
              "    </div>\n",
              "  </div>\n",
              "  "
            ]
          },
          "metadata": {},
          "execution_count": 58
        }
      ]
    },
    {
      "cell_type": "code",
      "source": [
        "df.duplicated().sum()"
      ],
      "metadata": {
        "colab": {
          "base_uri": "https://localhost:8080/"
        },
        "id": "GtVLMd4MIvhC",
        "outputId": "ad8b5358-2d54-4518-bd5d-9400e1de32ac"
      },
      "execution_count": null,
      "outputs": [
        {
          "output_type": "execute_result",
          "data": {
            "text/plain": [
              "250"
            ]
          },
          "metadata": {},
          "execution_count": 59
        }
      ]
    },
    {
      "cell_type": "code",
      "source": [
        "# drop duplicates\n",
        "df_clean = df.copy()\n",
        "df_clean = df_clean.drop_duplicates()\n",
        "df_clean.shape[0]"
      ],
      "metadata": {
        "colab": {
          "base_uri": "https://localhost:8080/"
        },
        "id": "w8xKS17o_Q8B",
        "outputId": "2a2f44fa-d5e8-4d32-aa32-18b8caa62ed0"
      },
      "execution_count": null,
      "outputs": [
        {
          "output_type": "execute_result",
          "data": {
            "text/plain": [
              "137862"
            ]
          },
          "metadata": {},
          "execution_count": 60
        }
      ]
    },
    {
      "cell_type": "code",
      "source": [
        "df.nunique()"
      ],
      "metadata": {
        "colab": {
          "base_uri": "https://localhost:8080/"
        },
        "id": "3adKaBZ2j2yx",
        "outputId": "4a3db5e6-62a6-4629-9650-85c8cb408955"
      },
      "execution_count": null,
      "outputs": [
        {
          "output_type": "execute_result",
          "data": {
            "text/plain": [
              "descriptor               5\n",
              "created_date        134444\n",
              "location_type           54\n",
              "incident_zip           197\n",
              "incident_address     66437\n",
              "city                    91\n",
              "status                   4\n",
              "borough                  5\n",
              "latitude             67852\n",
              "longitude            67852\n",
              "incident_date       134444\n",
              "incident_year            5\n",
              "incident_month          12\n",
              "boro_code                5\n",
              "season                   4\n",
              "avg_income               5\n",
              "density                  5\n",
              "dtype: int64"
            ]
          },
          "metadata": {},
          "execution_count": 61
        }
      ]
    },
    {
      "cell_type": "code",
      "source": [
        "df.descriptor.unique()"
      ],
      "metadata": {
        "colab": {
          "base_uri": "https://localhost:8080/"
        },
        "id": "1QzAqsCvp-oH",
        "outputId": "58af5c64-9653-42d3-b388-715e913fdee9"
      },
      "execution_count": null,
      "outputs": [
        {
          "output_type": "execute_result",
          "data": {
            "text/plain": [
              "array(['Rat Sighting', 'Mouse Sighting', 'Condition Attracting Rodents',\n",
              "       'Signs of Rodents', 'Rodent Bite - PCS Only'], dtype=object)"
            ]
          },
          "metadata": {},
          "execution_count": 62
        }
      ]
    },
    {
      "cell_type": "code",
      "source": [
        "# residence\n",
        "# single: 'Single Room Occupancy (SRO)', \n",
        "# 1-3 family dwelling: '1-2 Family Dwelling','1-3 Family Dwelling', '1-2 FamilyDwelling',  'Private Residence','Private House',\n",
        "# 1-3 family building: '1-2 Family Mixed Use Building', '1-3 Family Mixed Use Building', 'Residential Building','Apartment','Residential Property',\n",
        "# 3+ family apt: ‘3+ Family Apt. Building’, '3+ Family Mixed Use Building', 'Other (Explain Below)', '3+ Family Apartment Building’,'Residence', '3+Family Apt.', '3+ Family Apt','3+ Family Apt.','3+ Family',\n",
        "\n",
        "# non-residence\n",
        "# restaurants: 'Restaurant/Bar/Deli/Bakery','Catering Service','Grocery Store','Cafeteria - College/University’,’Restaurant’,'Cafeteria - Public School',\n",
        "# building: 'Office Building', 'Government Building', 'School/Pre-School','Building (Non-Residential)','Summer Camp’,'Commercial Building','School',  \n",
        "# hospital: 'Hospital', 'Day Care/Nursery',\n",
        "# public: 'Parking Lot/Garage', 'Public Garden', 'Public Stairs','Street Area', 'Beach', 'Public/Unfenced Area', 'Ground', 'Retail Store','Street Vendor', 'Street Fair Vendor’,'Catch Basin/Sewer'\n",
        "# others: 'Construction Site', 'Vacant Building','Vacant Lot','Abandoned Building', 'Other’,’Vacant Lot/Property','Store', 'Commercial Property', 'Construction Site',"
      ],
      "metadata": {
        "id": "dIw1JSWBEmuK"
      },
      "execution_count": null,
      "outputs": []
    },
    {
      "cell_type": "code",
      "source": [
        "# replace location_type data to two unique data (residential/non residential) and set the residential column as target\n",
        "residence=['Single Room Occupancy (SRO)','1-2 Family Dwelling','1-3 Family Dwelling','1-2 FamilyDwelling',\n",
        "           'Private Residence','Private House','1-2 Family Mixed Use Building','1-3 Family Mixed Use Building',\n",
        "           'Residential Building','Apartment','Residential Property','3+ Family Mixed Use Building','Other (Explain Below)',\n",
        "           '3+ Family Apartment Building','Residence','3+Family Apt.','3+ Family Apt','3+ Family Apt.','3+ Family']\n",
        "\n",
        "non_residence=['Restaurant/Bar/Deli/Bakery','Catering Service','Grocery Store','Cafeteria - College/University','Restaurant',\n",
        "               'Cafeteria - Public School','Office Building','Government Building','School/Pre-School','Building (Non-Residential)',\n",
        "               'Summer Camp','Commercial Building','School','Hospital','Day Care/Nursery','Parking Lot/Garage','Public Garden',\n",
        "               'Public Stairs','Street Area','Beach','Public/Unfenced Area','Ground','Retail Store','Street Vendor',\n",
        "               'Street Fair Vendor','Catch Basin/Sewer','Construction Site','Vacant Building','Vacant Lot','Abandoned Building',\n",
        "               'Other','Vacant Lot/Property','Store','Commercial Property','Construction Site']\n",
        "\n",
        "df['residence']=np.where(df['location_type'].isin(residence),1,0)\n",
        "\n",
        "df"
      ],
      "metadata": {
        "colab": {
          "base_uri": "https://localhost:8080/",
          "height": 661
        },
        "id": "vCsJDArWEtNX",
        "outputId": "d9438c05-4805-4f0b-cbeb-64cb5a946f32"
      },
      "execution_count": null,
      "outputs": [
        {
          "output_type": "execute_result",
          "data": {
            "text/plain": [
              "              descriptor            created_date  \\\n",
              "0           Rat Sighting  01/18/2023 09:56:24 PM   \n",
              "1           Rat Sighting  01/18/2023 07:37:32 AM   \n",
              "2           Rat Sighting  01/18/2023 04:15:20 PM   \n",
              "3           Rat Sighting  01/24/2023 10:10:45 PM   \n",
              "4         Mouse Sighting  01/18/2023 09:23:56 PM   \n",
              "...                  ...                     ...   \n",
              "138617      Rat Sighting  01/18/2023 08:45:32 AM   \n",
              "138618      Rat Sighting  01/18/2023 04:21:45 AM   \n",
              "138619  Signs of Rodents  01/18/2023 09:36:07 AM   \n",
              "138620      Rat Sighting  01/25/2023 10:38:50 AM   \n",
              "138621      Rat Sighting  01/25/2023 08:03:36 AM   \n",
              "\n",
              "                       location_type incident_zip      incident_address  \\\n",
              "0            3+ Family Apt. Building      10025.0  234 WEST  108 STREET   \n",
              "1            3+ Family Apt. Building      11237.0     618 IRVING AVENUE   \n",
              "2                1-2 Family Dwelling      10308.0   249 LINDENWOOD ROAD   \n",
              "3                  Construction Site      10024.0  117 WEST   79 STREET   \n",
              "4            3+ Family Apt. Building      10026.0   95 WEST  119 STREET   \n",
              "...                              ...          ...                   ...   \n",
              "138617               Vacant Building      11213.0         LINCOLN PLACE   \n",
              "138618         Other (Explain Below)      11220.0         314 59 STREET   \n",
              "138619  3+ Family Mixed Use Building      11368.0      35-13 109 STREET   \n",
              "138620           1-2 Family Dwelling      11233.0   253 SARATOGA AVENUE   \n",
              "138621       3+ Family Apt. Building      10024.0   29 WEST   88 STREET   \n",
              "\n",
              "                 city       status        borough   latitude  longitude  \\\n",
              "0            NEW YORK       Closed      MANHATTAN  40.802252 -73.965997   \n",
              "1            BROOKLYN       Closed       BROOKLYN  40.692512 -73.902968   \n",
              "2       STATEN ISLAND       Closed  STATEN ISLAND  40.544093 -74.149923   \n",
              "3            NEW YORK       Closed      MANHATTAN  40.782276 -73.976229   \n",
              "4            NEW YORK  In Progress      MANHATTAN  40.803802 -73.947881   \n",
              "...               ...          ...            ...        ...        ...   \n",
              "138617       BROOKLYN  In Progress       BROOKLYN  40.735201 -73.933557   \n",
              "138618       BROOKLYN  In Progress       BROOKLYN  40.642239 -74.019195   \n",
              "138619         CORONA  In Progress         QUEENS  40.755220 -73.859095   \n",
              "138620       BROOKLYN  In Progress       BROOKLYN  40.677352 -73.916388   \n",
              "138621       NEW YORK  In Progress      MANHATTAN  40.787020 -73.969370   \n",
              "\n",
              "             incident_date  incident_year  incident_month  boro_code  season  \\\n",
              "0      2023-01-18 21:56:24           2023               1          1  winter   \n",
              "1      2023-01-18 07:37:32           2023               1          3  winter   \n",
              "2      2023-01-18 16:15:20           2023               1          5  winter   \n",
              "3      2023-01-24 22:10:45           2023               1          1  winter   \n",
              "4      2023-01-18 21:23:56           2023               1          1  winter   \n",
              "...                    ...            ...             ...        ...     ...   \n",
              "138617 2023-01-18 08:45:32           2023               1          3  winter   \n",
              "138618 2023-01-18 04:21:45           2023               1          3  winter   \n",
              "138619 2023-01-18 09:36:07           2023               1          4  winter   \n",
              "138620 2023-01-25 10:38:50           2023               1          3  winter   \n",
              "138621 2023-01-25 08:03:36           2023               1          1  winter   \n",
              "\n",
              "        avg_income  density  residence  \n",
              "0            93651    26873          0  \n",
              "1            66937    14698          0  \n",
              "2            89821     3312          1  \n",
              "3            93651    26873          0  \n",
              "4            93651    26873          0  \n",
              "...            ...      ...        ...  \n",
              "138617       66937    14698          0  \n",
              "138618       66937    14698          1  \n",
              "138619       73696     8278          1  \n",
              "138620       66937    14698          1  \n",
              "138621       93651    26873          0  \n",
              "\n",
              "[138112 rows x 18 columns]"
            ],
            "text/html": [
              "\n",
              "  <div id=\"df-e7ab9133-70fb-45b2-844e-9047c635b1ff\">\n",
              "    <div class=\"colab-df-container\">\n",
              "      <div>\n",
              "<style scoped>\n",
              "    .dataframe tbody tr th:only-of-type {\n",
              "        vertical-align: middle;\n",
              "    }\n",
              "\n",
              "    .dataframe tbody tr th {\n",
              "        vertical-align: top;\n",
              "    }\n",
              "\n",
              "    .dataframe thead th {\n",
              "        text-align: right;\n",
              "    }\n",
              "</style>\n",
              "<table border=\"1\" class=\"dataframe\">\n",
              "  <thead>\n",
              "    <tr style=\"text-align: right;\">\n",
              "      <th></th>\n",
              "      <th>descriptor</th>\n",
              "      <th>created_date</th>\n",
              "      <th>location_type</th>\n",
              "      <th>incident_zip</th>\n",
              "      <th>incident_address</th>\n",
              "      <th>city</th>\n",
              "      <th>status</th>\n",
              "      <th>borough</th>\n",
              "      <th>latitude</th>\n",
              "      <th>longitude</th>\n",
              "      <th>incident_date</th>\n",
              "      <th>incident_year</th>\n",
              "      <th>incident_month</th>\n",
              "      <th>boro_code</th>\n",
              "      <th>season</th>\n",
              "      <th>avg_income</th>\n",
              "      <th>density</th>\n",
              "      <th>residence</th>\n",
              "    </tr>\n",
              "  </thead>\n",
              "  <tbody>\n",
              "    <tr>\n",
              "      <th>0</th>\n",
              "      <td>Rat Sighting</td>\n",
              "      <td>01/18/2023 09:56:24 PM</td>\n",
              "      <td>3+ Family Apt. Building</td>\n",
              "      <td>10025.0</td>\n",
              "      <td>234 WEST  108 STREET</td>\n",
              "      <td>NEW YORK</td>\n",
              "      <td>Closed</td>\n",
              "      <td>MANHATTAN</td>\n",
              "      <td>40.802252</td>\n",
              "      <td>-73.965997</td>\n",
              "      <td>2023-01-18 21:56:24</td>\n",
              "      <td>2023</td>\n",
              "      <td>1</td>\n",
              "      <td>1</td>\n",
              "      <td>winter</td>\n",
              "      <td>93651</td>\n",
              "      <td>26873</td>\n",
              "      <td>0</td>\n",
              "    </tr>\n",
              "    <tr>\n",
              "      <th>1</th>\n",
              "      <td>Rat Sighting</td>\n",
              "      <td>01/18/2023 07:37:32 AM</td>\n",
              "      <td>3+ Family Apt. Building</td>\n",
              "      <td>11237.0</td>\n",
              "      <td>618 IRVING AVENUE</td>\n",
              "      <td>BROOKLYN</td>\n",
              "      <td>Closed</td>\n",
              "      <td>BROOKLYN</td>\n",
              "      <td>40.692512</td>\n",
              "      <td>-73.902968</td>\n",
              "      <td>2023-01-18 07:37:32</td>\n",
              "      <td>2023</td>\n",
              "      <td>1</td>\n",
              "      <td>3</td>\n",
              "      <td>winter</td>\n",
              "      <td>66937</td>\n",
              "      <td>14698</td>\n",
              "      <td>0</td>\n",
              "    </tr>\n",
              "    <tr>\n",
              "      <th>2</th>\n",
              "      <td>Rat Sighting</td>\n",
              "      <td>01/18/2023 04:15:20 PM</td>\n",
              "      <td>1-2 Family Dwelling</td>\n",
              "      <td>10308.0</td>\n",
              "      <td>249 LINDENWOOD ROAD</td>\n",
              "      <td>STATEN ISLAND</td>\n",
              "      <td>Closed</td>\n",
              "      <td>STATEN ISLAND</td>\n",
              "      <td>40.544093</td>\n",
              "      <td>-74.149923</td>\n",
              "      <td>2023-01-18 16:15:20</td>\n",
              "      <td>2023</td>\n",
              "      <td>1</td>\n",
              "      <td>5</td>\n",
              "      <td>winter</td>\n",
              "      <td>89821</td>\n",
              "      <td>3312</td>\n",
              "      <td>1</td>\n",
              "    </tr>\n",
              "    <tr>\n",
              "      <th>3</th>\n",
              "      <td>Rat Sighting</td>\n",
              "      <td>01/24/2023 10:10:45 PM</td>\n",
              "      <td>Construction Site</td>\n",
              "      <td>10024.0</td>\n",
              "      <td>117 WEST   79 STREET</td>\n",
              "      <td>NEW YORK</td>\n",
              "      <td>Closed</td>\n",
              "      <td>MANHATTAN</td>\n",
              "      <td>40.782276</td>\n",
              "      <td>-73.976229</td>\n",
              "      <td>2023-01-24 22:10:45</td>\n",
              "      <td>2023</td>\n",
              "      <td>1</td>\n",
              "      <td>1</td>\n",
              "      <td>winter</td>\n",
              "      <td>93651</td>\n",
              "      <td>26873</td>\n",
              "      <td>0</td>\n",
              "    </tr>\n",
              "    <tr>\n",
              "      <th>4</th>\n",
              "      <td>Mouse Sighting</td>\n",
              "      <td>01/18/2023 09:23:56 PM</td>\n",
              "      <td>3+ Family Apt. Building</td>\n",
              "      <td>10026.0</td>\n",
              "      <td>95 WEST  119 STREET</td>\n",
              "      <td>NEW YORK</td>\n",
              "      <td>In Progress</td>\n",
              "      <td>MANHATTAN</td>\n",
              "      <td>40.803802</td>\n",
              "      <td>-73.947881</td>\n",
              "      <td>2023-01-18 21:23:56</td>\n",
              "      <td>2023</td>\n",
              "      <td>1</td>\n",
              "      <td>1</td>\n",
              "      <td>winter</td>\n",
              "      <td>93651</td>\n",
              "      <td>26873</td>\n",
              "      <td>0</td>\n",
              "    </tr>\n",
              "    <tr>\n",
              "      <th>...</th>\n",
              "      <td>...</td>\n",
              "      <td>...</td>\n",
              "      <td>...</td>\n",
              "      <td>...</td>\n",
              "      <td>...</td>\n",
              "      <td>...</td>\n",
              "      <td>...</td>\n",
              "      <td>...</td>\n",
              "      <td>...</td>\n",
              "      <td>...</td>\n",
              "      <td>...</td>\n",
              "      <td>...</td>\n",
              "      <td>...</td>\n",
              "      <td>...</td>\n",
              "      <td>...</td>\n",
              "      <td>...</td>\n",
              "      <td>...</td>\n",
              "      <td>...</td>\n",
              "    </tr>\n",
              "    <tr>\n",
              "      <th>138617</th>\n",
              "      <td>Rat Sighting</td>\n",
              "      <td>01/18/2023 08:45:32 AM</td>\n",
              "      <td>Vacant Building</td>\n",
              "      <td>11213.0</td>\n",
              "      <td>LINCOLN PLACE</td>\n",
              "      <td>BROOKLYN</td>\n",
              "      <td>In Progress</td>\n",
              "      <td>BROOKLYN</td>\n",
              "      <td>40.735201</td>\n",
              "      <td>-73.933557</td>\n",
              "      <td>2023-01-18 08:45:32</td>\n",
              "      <td>2023</td>\n",
              "      <td>1</td>\n",
              "      <td>3</td>\n",
              "      <td>winter</td>\n",
              "      <td>66937</td>\n",
              "      <td>14698</td>\n",
              "      <td>0</td>\n",
              "    </tr>\n",
              "    <tr>\n",
              "      <th>138618</th>\n",
              "      <td>Rat Sighting</td>\n",
              "      <td>01/18/2023 04:21:45 AM</td>\n",
              "      <td>Other (Explain Below)</td>\n",
              "      <td>11220.0</td>\n",
              "      <td>314 59 STREET</td>\n",
              "      <td>BROOKLYN</td>\n",
              "      <td>In Progress</td>\n",
              "      <td>BROOKLYN</td>\n",
              "      <td>40.642239</td>\n",
              "      <td>-74.019195</td>\n",
              "      <td>2023-01-18 04:21:45</td>\n",
              "      <td>2023</td>\n",
              "      <td>1</td>\n",
              "      <td>3</td>\n",
              "      <td>winter</td>\n",
              "      <td>66937</td>\n",
              "      <td>14698</td>\n",
              "      <td>1</td>\n",
              "    </tr>\n",
              "    <tr>\n",
              "      <th>138619</th>\n",
              "      <td>Signs of Rodents</td>\n",
              "      <td>01/18/2023 09:36:07 AM</td>\n",
              "      <td>3+ Family Mixed Use Building</td>\n",
              "      <td>11368.0</td>\n",
              "      <td>35-13 109 STREET</td>\n",
              "      <td>CORONA</td>\n",
              "      <td>In Progress</td>\n",
              "      <td>QUEENS</td>\n",
              "      <td>40.755220</td>\n",
              "      <td>-73.859095</td>\n",
              "      <td>2023-01-18 09:36:07</td>\n",
              "      <td>2023</td>\n",
              "      <td>1</td>\n",
              "      <td>4</td>\n",
              "      <td>winter</td>\n",
              "      <td>73696</td>\n",
              "      <td>8278</td>\n",
              "      <td>1</td>\n",
              "    </tr>\n",
              "    <tr>\n",
              "      <th>138620</th>\n",
              "      <td>Rat Sighting</td>\n",
              "      <td>01/25/2023 10:38:50 AM</td>\n",
              "      <td>1-2 Family Dwelling</td>\n",
              "      <td>11233.0</td>\n",
              "      <td>253 SARATOGA AVENUE</td>\n",
              "      <td>BROOKLYN</td>\n",
              "      <td>In Progress</td>\n",
              "      <td>BROOKLYN</td>\n",
              "      <td>40.677352</td>\n",
              "      <td>-73.916388</td>\n",
              "      <td>2023-01-25 10:38:50</td>\n",
              "      <td>2023</td>\n",
              "      <td>1</td>\n",
              "      <td>3</td>\n",
              "      <td>winter</td>\n",
              "      <td>66937</td>\n",
              "      <td>14698</td>\n",
              "      <td>1</td>\n",
              "    </tr>\n",
              "    <tr>\n",
              "      <th>138621</th>\n",
              "      <td>Rat Sighting</td>\n",
              "      <td>01/25/2023 08:03:36 AM</td>\n",
              "      <td>3+ Family Apt. Building</td>\n",
              "      <td>10024.0</td>\n",
              "      <td>29 WEST   88 STREET</td>\n",
              "      <td>NEW YORK</td>\n",
              "      <td>In Progress</td>\n",
              "      <td>MANHATTAN</td>\n",
              "      <td>40.787020</td>\n",
              "      <td>-73.969370</td>\n",
              "      <td>2023-01-25 08:03:36</td>\n",
              "      <td>2023</td>\n",
              "      <td>1</td>\n",
              "      <td>1</td>\n",
              "      <td>winter</td>\n",
              "      <td>93651</td>\n",
              "      <td>26873</td>\n",
              "      <td>0</td>\n",
              "    </tr>\n",
              "  </tbody>\n",
              "</table>\n",
              "<p>138112 rows × 18 columns</p>\n",
              "</div>\n",
              "      <button class=\"colab-df-convert\" onclick=\"convertToInteractive('df-e7ab9133-70fb-45b2-844e-9047c635b1ff')\"\n",
              "              title=\"Convert this dataframe to an interactive table.\"\n",
              "              style=\"display:none;\">\n",
              "        \n",
              "  <svg xmlns=\"http://www.w3.org/2000/svg\" height=\"24px\"viewBox=\"0 0 24 24\"\n",
              "       width=\"24px\">\n",
              "    <path d=\"M0 0h24v24H0V0z\" fill=\"none\"/>\n",
              "    <path d=\"M18.56 5.44l.94 2.06.94-2.06 2.06-.94-2.06-.94-.94-2.06-.94 2.06-2.06.94zm-11 1L8.5 8.5l.94-2.06 2.06-.94-2.06-.94L8.5 2.5l-.94 2.06-2.06.94zm10 10l.94 2.06.94-2.06 2.06-.94-2.06-.94-.94-2.06-.94 2.06-2.06.94z\"/><path d=\"M17.41 7.96l-1.37-1.37c-.4-.4-.92-.59-1.43-.59-.52 0-1.04.2-1.43.59L10.3 9.45l-7.72 7.72c-.78.78-.78 2.05 0 2.83L4 21.41c.39.39.9.59 1.41.59.51 0 1.02-.2 1.41-.59l7.78-7.78 2.81-2.81c.8-.78.8-2.07 0-2.86zM5.41 20L4 18.59l7.72-7.72 1.47 1.35L5.41 20z\"/>\n",
              "  </svg>\n",
              "      </button>\n",
              "      \n",
              "  <style>\n",
              "    .colab-df-container {\n",
              "      display:flex;\n",
              "      flex-wrap:wrap;\n",
              "      gap: 12px;\n",
              "    }\n",
              "\n",
              "    .colab-df-convert {\n",
              "      background-color: #E8F0FE;\n",
              "      border: none;\n",
              "      border-radius: 50%;\n",
              "      cursor: pointer;\n",
              "      display: none;\n",
              "      fill: #1967D2;\n",
              "      height: 32px;\n",
              "      padding: 0 0 0 0;\n",
              "      width: 32px;\n",
              "    }\n",
              "\n",
              "    .colab-df-convert:hover {\n",
              "      background-color: #E2EBFA;\n",
              "      box-shadow: 0px 1px 2px rgba(60, 64, 67, 0.3), 0px 1px 3px 1px rgba(60, 64, 67, 0.15);\n",
              "      fill: #174EA6;\n",
              "    }\n",
              "\n",
              "    [theme=dark] .colab-df-convert {\n",
              "      background-color: #3B4455;\n",
              "      fill: #D2E3FC;\n",
              "    }\n",
              "\n",
              "    [theme=dark] .colab-df-convert:hover {\n",
              "      background-color: #434B5C;\n",
              "      box-shadow: 0px 1px 3px 1px rgba(0, 0, 0, 0.15);\n",
              "      filter: drop-shadow(0px 1px 2px rgba(0, 0, 0, 0.3));\n",
              "      fill: #FFFFFF;\n",
              "    }\n",
              "  </style>\n",
              "\n",
              "      <script>\n",
              "        const buttonEl =\n",
              "          document.querySelector('#df-e7ab9133-70fb-45b2-844e-9047c635b1ff button.colab-df-convert');\n",
              "        buttonEl.style.display =\n",
              "          google.colab.kernel.accessAllowed ? 'block' : 'none';\n",
              "\n",
              "        async function convertToInteractive(key) {\n",
              "          const element = document.querySelector('#df-e7ab9133-70fb-45b2-844e-9047c635b1ff');\n",
              "          const dataTable =\n",
              "            await google.colab.kernel.invokeFunction('convertToInteractive',\n",
              "                                                     [key], {});\n",
              "          if (!dataTable) return;\n",
              "\n",
              "          const docLinkHtml = 'Like what you see? Visit the ' +\n",
              "            '<a target=\"_blank\" href=https://colab.research.google.com/notebooks/data_table.ipynb>data table notebook</a>'\n",
              "            + ' to learn more about interactive tables.';\n",
              "          element.innerHTML = '';\n",
              "          dataTable['output_type'] = 'display_data';\n",
              "          await google.colab.output.renderOutput(dataTable, element);\n",
              "          const docLink = document.createElement('div');\n",
              "          docLink.innerHTML = docLinkHtml;\n",
              "          element.appendChild(docLink);\n",
              "        }\n",
              "      </script>\n",
              "    </div>\n",
              "  </div>\n",
              "  "
            ]
          },
          "metadata": {},
          "execution_count": 64
        }
      ]
    },
    {
      "cell_type": "code",
      "source": [
        "sns.set_theme(style=\"whitegrid\") ## figure, axes 스타일\n",
        "sns.countplot(x=\"season\", data=df)"
      ],
      "metadata": {
        "colab": {
          "base_uri": "https://localhost:8080/",
          "height": 303
        },
        "id": "fpgnb18bt3r2",
        "outputId": "d91925e6-dac1-4dde-d1d7-95371f88fe4d"
      },
      "execution_count": null,
      "outputs": [
        {
          "output_type": "execute_result",
          "data": {
            "text/plain": [
              "<matplotlib.axes._subplots.AxesSubplot at 0x7ffaec7ef4c0>"
            ]
          },
          "metadata": {},
          "execution_count": 65
        },
        {
          "output_type": "display_data",
          "data": {
            "text/plain": [
              "<Figure size 432x288 with 1 Axes>"
            ],
            "image/png": "[encoded data removed]"
          },
          "metadata": {}
        }
      ]
    },
    {
      "cell_type": "code",
      "source": [
        "sns.set_theme(style=\"whitegrid\") ## figure, axes 스타일\n",
        "sns.countplot(x=\"incident_month\", data=df)"
      ],
      "metadata": {
        "colab": {
          "base_uri": "https://localhost:8080/",
          "height": 303
        },
        "id": "adztfYw7viXJ",
        "outputId": "4849fe1b-669a-4ecf-e3ed-811c56bd8ea4"
      },
      "execution_count": null,
      "outputs": [
        {
          "output_type": "execute_result",
          "data": {
            "text/plain": [
              "<matplotlib.axes._subplots.AxesSubplot at 0x7ffaee34c0a0>"
            ]
          },
          "metadata": {},
          "execution_count": 66
        },
        {
          "output_type": "display_data",
          "data": {
            "text/plain": [
              "<Figure size 432x288 with 1 Axes>"
            ],
            "image/png": "[encoded data removed]"
          },
          "metadata": {}
        }
      ]
    },
    {
      "cell_type": "code",
      "source": [
        "import datetime\n",
        "created_dates_df = []\n",
        "for index in df['created_date'].index:\n",
        "    created_dates_df.append(datetime.datetime.strptime(df['created_date'][index], \"%m/%d/%Y %I:%M:%S %p\"))\n",
        "\n",
        "Date_counts_df = Counter(created_dates_df)\n",
        "Created_dates_frame = pd.DataFrame.from_dict(Date_counts_df, orient='index')\n",
        "Created_dates_frame.plot(kind='line', figsize = (20,20))"
      ],
      "metadata": {
        "id": "2OXltlRxb3qA",
        "colab": {
          "base_uri": "https://localhost:8080/",
          "height": 1000
        },
        "outputId": "20fac032-ba74-4fe3-964a-f3f7e3ef8bdd"
      },
      "execution_count": null,
      "outputs": [
        {
          "output_type": "execute_result",
          "data": {
            "text/plain": [
              "<matplotlib.axes._subplots.AxesSubplot at 0x7ffafed23b80>"
            ]
          },
          "metadata": {},
          "execution_count": 67
        },
        {
          "output_type": "display_data",
          "data": {
            "text/plain": [
              "<Figure size 1440x1440 with 1 Axes>"
            ],
            "image/png": "[encoded data removed]"
          },
          "metadata": {}
        }
      ]
    },
    {
      "cell_type": "code",
      "source": [
        "Created_dates_frame.plot(kind='kde', figsize = (20,20))"
      ],
      "metadata": {
        "id": "7eiRU3oMcQvS",
        "colab": {
          "base_uri": "https://localhost:8080/",
          "height": 1000
        },
        "outputId": "ae5600a1-edd1-40ad-b55d-41a533f83e96"
      },
      "execution_count": null,
      "outputs": [
        {
          "output_type": "execute_result",
          "data": {
            "text/plain": [
              "<matplotlib.axes._subplots.AxesSubplot at 0x7ffafd2a1f10>"
            ]
          },
          "metadata": {},
          "execution_count": 68
        },
        {
          "output_type": "display_data",
          "data": {
            "text/plain": [
              "<Figure size 1440x1440 with 1 Axes>"
            ],
            "image/png": "[encoded data removed]"
          },
          "metadata": {}
        }
      ]
    },
    {
      "cell_type": "markdown",
      "source": [
        "the reappearance of rats are rare."
      ],
      "metadata": {
        "id": "TXHmMQkWc4Qp"
      }
    },
    {
      "cell_type": "code",
      "source": [
        "Created_time = []\n",
        "dateA = datetime.datetime.strptime('01/01/2019 12:00:00 AM', \"%m/%d/%Y %I:%M:%S %p\")\n",
        "dateB = datetime.datetime.strptime('01/01/2020 12:00:00 AM', \"%m/%d/%Y %I:%M:%S %p\")\n",
        "for index in df['created_date'].index:\n",
        "    date = datetime.datetime.strptime(df['created_date'][index], \"%m/%d/%Y %I:%M:%S %p\")\n",
        "    if (date >= dateA and date <= dateB):\n",
        "        Created_time.append(date)\n",
        "Date_counts = Counter(Created_time)\n",
        "Created_dates_frame = pd.DataFrame.from_dict(Date_counts, orient='index')\n",
        "Created_dates_frame.plot(kind='line', figsize = (20,10))\n",
        "quantity = len(Created_time) # KOLICHESTVO SLUCHEV V 2010 2011\n",
        "print('Total cases in 2019 were = ' + str(quantity) )"
      ],
      "metadata": {
        "id": "FGWWD5EpdAd-",
        "colab": {
          "base_uri": "https://localhost:8080/",
          "height": 580
        },
        "outputId": "f6b74bb1-0b87-4414-fb8a-fc928a6f816f"
      },
      "execution_count": null,
      "outputs": [
        {
          "output_type": "stream",
          "name": "stdout",
          "text": [
            "Total cases in 2019 were = 27226\n"
          ]
        },
        {
          "output_type": "display_data",
          "data": {
            "text/plain": [
              "<Figure size 1440x720 with 1 Axes>"
            ],
            "image/png": "[encoded data removed]"
          },
          "metadata": {}
        }
      ]
    },
    {
      "cell_type": "code",
      "source": [
        "Created_time = []\n",
        "dateA = datetime.datetime.strptime('01/01/2020 12:00:00 AM', \"%m/%d/%Y %I:%M:%S %p\")\n",
        "dateB = datetime.datetime.strptime('01/01/2021 12:00:00 AM', \"%m/%d/%Y %I:%M:%S %p\")\n",
        "for index in df['created_date'].index:\n",
        "    date = datetime.datetime.strptime(df['created_date'][index], \"%m/%d/%Y %I:%M:%S %p\")\n",
        "    if (date >= dateA and date <= dateB):\n",
        "        Created_time.append(date)\n",
        "Date_counts = Counter(Created_time)\n",
        "Created_dates_frame = pd.DataFrame.from_dict(Date_counts, orient='index')\n",
        "Created_dates_frame.plot(kind='line', figsize = (20,10))\n",
        "quantity = len(Created_time) # KOLICHESTVO SLUCHEV V 2010 2011\n",
        "print('Total cases in 2020 were = ' + str(quantity) )"
      ],
      "metadata": {
        "id": "yT4zKNMddtH2",
        "colab": {
          "base_uri": "https://localhost:8080/",
          "height": 580
        },
        "outputId": "620f4d89-ee9d-4fe0-ab9a-57c5beae6f44"
      },
      "execution_count": null,
      "outputs": [
        {
          "output_type": "stream",
          "name": "stdout",
          "text": [
            "Total cases in 2020 were = 27580\n"
          ]
        },
        {
          "output_type": "display_data",
          "data": {
            "text/plain": [
              "<Figure size 1440x720 with 1 Axes>"
            ],
            "image/png": "[encoded data removed]"
          },
          "metadata": {}
        }
      ]
    },
    {
      "cell_type": "code",
      "source": [
        "Created_time = []\n",
        "dateA = datetime.datetime.strptime('01/01/2021 12:00:00 AM', \"%m/%d/%Y %I:%M:%S %p\")\n",
        "dateB = datetime.datetime.strptime('01/01/2022 12:00:00 AM', \"%m/%d/%Y %I:%M:%S %p\")\n",
        "for index in df['created_date'].index:\n",
        "    date = datetime.datetime.strptime(df['created_date'][index], \"%m/%d/%Y %I:%M:%S %p\")\n",
        "    if (date >= dateA and date <= dateB):\n",
        "        Created_time.append(date)\n",
        "Date_counts = Counter(Created_time)\n",
        "Created_dates_frame = pd.DataFrame.from_dict(Date_counts, orient='index')\n",
        "Created_dates_frame.plot(kind='line', figsize = (20,10))\n",
        "quantity = len(Created_time) # KOLICHESTVO SLUCHEV V 2010 2011\n",
        "print('Total cases in 2021 were = ' + str(quantity) )"
      ],
      "metadata": {
        "id": "nDpZK2e2eD-L",
        "colab": {
          "base_uri": "https://localhost:8080/",
          "height": 580
        },
        "outputId": "0782d298-280d-44da-9f12-9f1921d4daa0"
      },
      "execution_count": null,
      "outputs": [
        {
          "output_type": "stream",
          "name": "stdout",
          "text": [
            "Total cases in 2021 were = 38806\n"
          ]
        },
        {
          "output_type": "display_data",
          "data": {
            "text/plain": [
              "<Figure size 1440x720 with 1 Axes>"
            ],
            "image/png": "[encoded data removed]"
          },
          "metadata": {}
        }
      ]
    },
    {
      "cell_type": "code",
      "source": [
        "Created_time = []\n",
        "dateA = datetime.datetime.strptime('01/01/2022 12:00:00 AM', \"%m/%d/%Y %I:%M:%S %p\")\n",
        "dateB = datetime.datetime.strptime('01/01/2023 12:00:00 AM', \"%m/%d/%Y %I:%M:%S %p\")\n",
        "for index in df['created_date'].index:\n",
        "    date = datetime.datetime.strptime(df['created_date'][index], \"%m/%d/%Y %I:%M:%S %p\")\n",
        "    if (date >= dateA and date <= dateB):\n",
        "        Created_time.append(date)\n",
        "Date_counts = Counter(Created_time)\n",
        "Created_dates_frame = pd.DataFrame.from_dict(Date_counts, orient='index')\n",
        "Created_dates_frame.plot(kind='line', figsize = (20,10))\n",
        "quantity = len(Created_time) # KOLICHESTVO SLUCHEV V 2010 2011\n",
        "print('Total cases in 2022 were = ' + str(quantity) )"
      ],
      "metadata": {
        "id": "02xc1FS9eJ7h",
        "colab": {
          "base_uri": "https://localhost:8080/",
          "height": 580
        },
        "outputId": "02d7b7b4-af1d-4b3d-d96c-7ec883fa44a0"
      },
      "execution_count": null,
      "outputs": [
        {
          "output_type": "stream",
          "name": "stdout",
          "text": [
            "Total cases in 2022 were = 41117\n"
          ]
        },
        {
          "output_type": "display_data",
          "data": {
            "text/plain": [
              "<Figure size 1440x720 with 1 Axes>"
            ],
            "image/png": "[encoded data removed]"
          },
          "metadata": {}
        }
      ]
    },
    {
      "cell_type": "code",
      "source": [
        "target = \"residence\"\n",
        "df[target].value_counts(normalize=True).plot.pie(autopct=\"%.2f%%\")\n",
        "print(\"Baseline Accuracy:\", df[target].value_counts(normalize=True).max())"
      ],
      "metadata": {
        "colab": {
          "base_uri": "https://localhost:8080/",
          "height": 266
        },
        "id": "4a4xG8eurNv7",
        "outputId": "31e59aa7-e5c9-4e22-d042-21c7b31a7d21"
      },
      "execution_count": null,
      "outputs": [
        {
          "output_type": "stream",
          "name": "stdout",
          "text": [
            "Baseline Accuracy: 0.574135484244671\n"
          ]
        },
        {
          "output_type": "display_data",
          "data": {
            "text/plain": [
              "<Figure size 432x288 with 1 Axes>"
            ],
            "image/png": "[encoded data removed]"
          },
          "metadata": {}
        }
      ]
    },
    {
      "cell_type": "markdown",
      "source": [
        "target rate is balanced."
      ],
      "metadata": {
        "id": "DthLZ9rnLMrL"
      }
    },
    {
      "cell_type": "code",
      "source": [
        "display(df.info(), df.nunique())"
      ],
      "metadata": {
        "colab": {
          "base_uri": "https://localhost:8080/",
          "height": 821
        },
        "id": "jCUFhSSNr3kb",
        "outputId": "cdd52bb4-264d-4dca-a18e-072c1d679361"
      },
      "execution_count": null,
      "outputs": [
        {
          "output_type": "stream",
          "name": "stdout",
          "text": [
            "<class 'pandas.core.frame.DataFrame'>\n",
            "Int64Index: 138112 entries, 0 to 138621\n",
            "Data columns (total 18 columns):\n",
            " #   Column            Non-Null Count   Dtype         \n",
            "---  ------            --------------   -----         \n",
            " 0   descriptor        138112 non-null  object        \n",
            " 1   created_date      138112 non-null  object        \n",
            " 2   location_type     138112 non-null  object        \n",
            " 3   incident_zip      138112 non-null  object        \n",
            " 4   incident_address  138112 non-null  object        \n",
            " 5   city              138112 non-null  object        \n",
            " 6   status            138112 non-null  object        \n",
            " 7   borough           138112 non-null  object        \n",
            " 8   latitude          138112 non-null  float64       \n",
            " 9   longitude         138112 non-null  float64       \n",
            " 10  incident_date     138112 non-null  datetime64[ns]\n",
            " 11  incident_year     138112 non-null  int64         \n",
            " 12  incident_month    138112 non-null  int64         \n",
            " 13  boro_code         138112 non-null  int64         \n",
            " 14  season            138112 non-null  object        \n",
            " 15  avg_income        138112 non-null  int64         \n",
            " 16  density           138112 non-null  int64         \n",
            " 17  residence         138112 non-null  int64         \n",
            "dtypes: datetime64[ns](1), float64(2), int64(6), object(9)\n",
            "memory usage: 24.1+ MB\n"
          ]
        },
        {
          "output_type": "display_data",
          "data": {
            "text/plain": [
              "None"
            ]
          },
          "metadata": {}
        },
        {
          "output_type": "display_data",
          "data": {
            "text/plain": [
              "descriptor               5\n",
              "created_date        134444\n",
              "location_type           54\n",
              "incident_zip           197\n",
              "incident_address     66437\n",
              "city                    91\n",
              "status                   4\n",
              "borough                  5\n",
              "latitude             67852\n",
              "longitude            67852\n",
              "incident_date       134444\n",
              "incident_year            5\n",
              "incident_month          12\n",
              "boro_code                5\n",
              "season                   4\n",
              "avg_income               5\n",
              "density                  5\n",
              "residence                2\n",
              "dtype: int64"
            ]
          },
          "metadata": {}
        }
      ]
    },
    {
      "cell_type": "code",
      "source": [
        "df.descriptor.unique()"
      ],
      "metadata": {
        "colab": {
          "base_uri": "https://localhost:8080/"
        },
        "id": "k2HkfLqYxbtx",
        "outputId": "533fe25b-22ff-4f2c-977f-54a8b9ccdd07"
      },
      "execution_count": null,
      "outputs": [
        {
          "output_type": "execute_result",
          "data": {
            "text/plain": [
              "array(['Rat Sighting', 'Mouse Sighting', 'Condition Attracting Rodents',\n",
              "       'Signs of Rodents', 'Rodent Bite - PCS Only'], dtype=object)"
            ]
          },
          "metadata": {},
          "execution_count": 75
        }
      ]
    },
    {
      "cell_type": "code",
      "source": [
        "df.density.mean()"
      ],
      "metadata": {
        "colab": {
          "base_uri": "https://localhost:8080/"
        },
        "id": "yOLEJ52cxgqI",
        "outputId": "10db8456-671d-4fba-ebe7-4a8f81dded21"
      },
      "execution_count": null,
      "outputs": [
        {
          "output_type": "execute_result",
          "data": {
            "text/plain": [
              "15990.33701633457"
            ]
          },
          "metadata": {},
          "execution_count": 76
        }
      ]
    },
    {
      "cell_type": "code",
      "source": [
        "# extract using columns & change column order (!! consier high cardinality)\n",
        "\n",
        "df_re = df[['city','borough','boro_code','incident_date','incident_year','incident_month','season','avg_income','density','residence']]\n",
        "df_re"
      ],
      "metadata": {
        "colab": {
          "base_uri": "https://localhost:8080/",
          "height": 424
        },
        "id": "mIQZoCf9I2i2",
        "outputId": "af13e0ab-287b-44a1-cfa0-0855e1dc211b"
      },
      "execution_count": null,
      "outputs": [
        {
          "output_type": "execute_result",
          "data": {
            "text/plain": [
              "                 city        borough  boro_code       incident_date  \\\n",
              "0            NEW YORK      MANHATTAN          1 2023-01-18 21:56:24   \n",
              "1            BROOKLYN       BROOKLYN          3 2023-01-18 07:37:32   \n",
              "2       STATEN ISLAND  STATEN ISLAND          5 2023-01-18 16:15:20   \n",
              "3            NEW YORK      MANHATTAN          1 2023-01-24 22:10:45   \n",
              "4            NEW YORK      MANHATTAN          1 2023-01-18 21:23:56   \n",
              "...               ...            ...        ...                 ...   \n",
              "138617       BROOKLYN       BROOKLYN          3 2023-01-18 08:45:32   \n",
              "138618       BROOKLYN       BROOKLYN          3 2023-01-18 04:21:45   \n",
              "138619         CORONA         QUEENS          4 2023-01-18 09:36:07   \n",
              "138620       BROOKLYN       BROOKLYN          3 2023-01-25 10:38:50   \n",
              "138621       NEW YORK      MANHATTAN          1 2023-01-25 08:03:36   \n",
              "\n",
              "        incident_year  incident_month  season  avg_income  density  residence  \n",
              "0                2023               1  winter       93651    26873          0  \n",
              "1                2023               1  winter       66937    14698          0  \n",
              "2                2023               1  winter       89821     3312          1  \n",
              "3                2023               1  winter       93651    26873          0  \n",
              "4                2023               1  winter       93651    26873          0  \n",
              "...               ...             ...     ...         ...      ...        ...  \n",
              "138617           2023               1  winter       66937    14698          0  \n",
              "138618           2023               1  winter       66937    14698          1  \n",
              "138619           2023               1  winter       73696     8278          1  \n",
              "138620           2023               1  winter       66937    14698          1  \n",
              "138621           2023               1  winter       93651    26873          0  \n",
              "\n",
              "[138112 rows x 10 columns]"
            ],
            "text/html": [
              "\n",
              "  <div id=\"df-fdd89de2-2aaf-4bce-9bd2-9a79f6135319\">\n",
              "    <div class=\"colab-df-container\">\n",
              "      <div>\n",
              "<style scoped>\n",
              "    .dataframe tbody tr th:only-of-type {\n",
              "        vertical-align: middle;\n",
              "    }\n",
              "\n",
              "    .dataframe tbody tr th {\n",
              "        vertical-align: top;\n",
              "    }\n",
              "\n",
              "    .dataframe thead th {\n",
              "        text-align: right;\n",
              "    }\n",
              "</style>\n",
              "<table border=\"1\" class=\"dataframe\">\n",
              "  <thead>\n",
              "    <tr style=\"text-align: right;\">\n",
              "      <th></th>\n",
              "      <th>city</th>\n",
              "      <th>borough</th>\n",
              "      <th>boro_code</th>\n",
              "      <th>incident_date</th>\n",
              "      <th>incident_year</th>\n",
              "      <th>incident_month</th>\n",
              "      <th>season</th>\n",
              "      <th>avg_income</th>\n",
              "      <th>density</th>\n",
              "      <th>residence</th>\n",
              "    </tr>\n",
              "  </thead>\n",
              "  <tbody>\n",
              "    <tr>\n",
              "      <th>0</th>\n",
              "      <td>NEW YORK</td>\n",
              "      <td>MANHATTAN</td>\n",
              "      <td>1</td>\n",
              "      <td>2023-01-18 21:56:24</td>\n",
              "      <td>2023</td>\n",
              "      <td>1</td>\n",
              "      <td>winter</td>\n",
              "      <td>93651</td>\n",
              "      <td>26873</td>\n",
              "      <td>0</td>\n",
              "    </tr>\n",
              "    <tr>\n",
              "      <th>1</th>\n",
              "      <td>BROOKLYN</td>\n",
              "      <td>BROOKLYN</td>\n",
              "      <td>3</td>\n",
              "      <td>2023-01-18 07:37:32</td>\n",
              "      <td>2023</td>\n",
              "      <td>1</td>\n",
              "      <td>winter</td>\n",
              "      <td>66937</td>\n",
              "      <td>14698</td>\n",
              "      <td>0</td>\n",
              "    </tr>\n",
              "    <tr>\n",
              "      <th>2</th>\n",
              "      <td>STATEN ISLAND</td>\n",
              "      <td>STATEN ISLAND</td>\n",
              "      <td>5</td>\n",
              "      <td>2023-01-18 16:15:20</td>\n",
              "      <td>2023</td>\n",
              "      <td>1</td>\n",
              "      <td>winter</td>\n",
              "      <td>89821</td>\n",
              "      <td>3312</td>\n",
              "      <td>1</td>\n",
              "    </tr>\n",
              "    <tr>\n",
              "      <th>3</th>\n",
              "      <td>NEW YORK</td>\n",
              "      <td>MANHATTAN</td>\n",
              "      <td>1</td>\n",
              "      <td>2023-01-24 22:10:45</td>\n",
              "      <td>2023</td>\n",
              "      <td>1</td>\n",
              "      <td>winter</td>\n",
              "      <td>93651</td>\n",
              "      <td>26873</td>\n",
              "      <td>0</td>\n",
              "    </tr>\n",
              "    <tr>\n",
              "      <th>4</th>\n",
              "      <td>NEW YORK</td>\n",
              "      <td>MANHATTAN</td>\n",
              "      <td>1</td>\n",
              "      <td>2023-01-18 21:23:56</td>\n",
              "      <td>2023</td>\n",
              "      <td>1</td>\n",
              "      <td>winter</td>\n",
              "      <td>93651</td>\n",
              "      <td>26873</td>\n",
              "      <td>0</td>\n",
              "    </tr>\n",
              "    <tr>\n",
              "      <th>...</th>\n",
              "      <td>...</td>\n",
              "      <td>...</td>\n",
              "      <td>...</td>\n",
              "      <td>...</td>\n",
              "      <td>...</td>\n",
              "      <td>...</td>\n",
              "      <td>...</td>\n",
              "      <td>...</td>\n",
              "      <td>...</td>\n",
              "      <td>...</td>\n",
              "    </tr>\n",
              "    <tr>\n",
              "      <th>138617</th>\n",
              "      <td>BROOKLYN</td>\n",
              "      <td>BROOKLYN</td>\n",
              "      <td>3</td>\n",
              "      <td>2023-01-18 08:45:32</td>\n",
              "      <td>2023</td>\n",
              "      <td>1</td>\n",
              "      <td>winter</td>\n",
              "      <td>66937</td>\n",
              "      <td>14698</td>\n",
              "      <td>0</td>\n",
              "    </tr>\n",
              "    <tr>\n",
              "      <th>138618</th>\n",
              "      <td>BROOKLYN</td>\n",
              "      <td>BROOKLYN</td>\n",
              "      <td>3</td>\n",
              "      <td>2023-01-18 04:21:45</td>\n",
              "      <td>2023</td>\n",
              "      <td>1</td>\n",
              "      <td>winter</td>\n",
              "      <td>66937</td>\n",
              "      <td>14698</td>\n",
              "      <td>1</td>\n",
              "    </tr>\n",
              "    <tr>\n",
              "      <th>138619</th>\n",
              "      <td>CORONA</td>\n",
              "      <td>QUEENS</td>\n",
              "      <td>4</td>\n",
              "      <td>2023-01-18 09:36:07</td>\n",
              "      <td>2023</td>\n",
              "      <td>1</td>\n",
              "      <td>winter</td>\n",
              "      <td>73696</td>\n",
              "      <td>8278</td>\n",
              "      <td>1</td>\n",
              "    </tr>\n",
              "    <tr>\n",
              "      <th>138620</th>\n",
              "      <td>BROOKLYN</td>\n",
              "      <td>BROOKLYN</td>\n",
              "      <td>3</td>\n",
              "      <td>2023-01-25 10:38:50</td>\n",
              "      <td>2023</td>\n",
              "      <td>1</td>\n",
              "      <td>winter</td>\n",
              "      <td>66937</td>\n",
              "      <td>14698</td>\n",
              "      <td>1</td>\n",
              "    </tr>\n",
              "    <tr>\n",
              "      <th>138621</th>\n",
              "      <td>NEW YORK</td>\n",
              "      <td>MANHATTAN</td>\n",
              "      <td>1</td>\n",
              "      <td>2023-01-25 08:03:36</td>\n",
              "      <td>2023</td>\n",
              "      <td>1</td>\n",
              "      <td>winter</td>\n",
              "      <td>93651</td>\n",
              "      <td>26873</td>\n",
              "      <td>0</td>\n",
              "    </tr>\n",
              "  </tbody>\n",
              "</table>\n",
              "<p>138112 rows × 10 columns</p>\n",
              "</div>\n",
              "      <button class=\"colab-df-convert\" onclick=\"convertToInteractive('df-fdd89de2-2aaf-4bce-9bd2-9a79f6135319')\"\n",
              "              title=\"Convert this dataframe to an interactive table.\"\n",
              "              style=\"display:none;\">\n",
              "        \n",
              "  <svg xmlns=\"http://www.w3.org/2000/svg\" height=\"24px\"viewBox=\"0 0 24 24\"\n",
              "       width=\"24px\">\n",
              "    <path d=\"M0 0h24v24H0V0z\" fill=\"none\"/>\n",
              "    <path d=\"M18.56 5.44l.94 2.06.94-2.06 2.06-.94-2.06-.94-.94-2.06-.94 2.06-2.06.94zm-11 1L8.5 8.5l.94-2.06 2.06-.94-2.06-.94L8.5 2.5l-.94 2.06-2.06.94zm10 10l.94 2.06.94-2.06 2.06-.94-2.06-.94-.94-2.06-.94 2.06-2.06.94z\"/><path d=\"M17.41 7.96l-1.37-1.37c-.4-.4-.92-.59-1.43-.59-.52 0-1.04.2-1.43.59L10.3 9.45l-7.72 7.72c-.78.78-.78 2.05 0 2.83L4 21.41c.39.39.9.59 1.41.59.51 0 1.02-.2 1.41-.59l7.78-7.78 2.81-2.81c.8-.78.8-2.07 0-2.86zM5.41 20L4 18.59l7.72-7.72 1.47 1.35L5.41 20z\"/>\n",
              "  </svg>\n",
              "      </button>\n",
              "      \n",
              "  <style>\n",
              "    .colab-df-container {\n",
              "      display:flex;\n",
              "      flex-wrap:wrap;\n",
              "      gap: 12px;\n",
              "    }\n",
              "\n",
              "    .colab-df-convert {\n",
              "      background-color: #E8F0FE;\n",
              "      border: none;\n",
              "      border-radius: 50%;\n",
              "      cursor: pointer;\n",
              "      display: none;\n",
              "      fill: #1967D2;\n",
              "      height: 32px;\n",
              "      padding: 0 0 0 0;\n",
              "      width: 32px;\n",
              "    }\n",
              "\n",
              "    .colab-df-convert:hover {\n",
              "      background-color: #E2EBFA;\n",
              "      box-shadow: 0px 1px 2px rgba(60, 64, 67, 0.3), 0px 1px 3px 1px rgba(60, 64, 67, 0.15);\n",
              "      fill: #174EA6;\n",
              "    }\n",
              "\n",
              "    [theme=dark] .colab-df-convert {\n",
              "      background-color: #3B4455;\n",
              "      fill: #D2E3FC;\n",
              "    }\n",
              "\n",
              "    [theme=dark] .colab-df-convert:hover {\n",
              "      background-color: #434B5C;\n",
              "      box-shadow: 0px 1px 3px 1px rgba(0, 0, 0, 0.15);\n",
              "      filter: drop-shadow(0px 1px 2px rgba(0, 0, 0, 0.3));\n",
              "      fill: #FFFFFF;\n",
              "    }\n",
              "  </style>\n",
              "\n",
              "      <script>\n",
              "        const buttonEl =\n",
              "          document.querySelector('#df-fdd89de2-2aaf-4bce-9bd2-9a79f6135319 button.colab-df-convert');\n",
              "        buttonEl.style.display =\n",
              "          google.colab.kernel.accessAllowed ? 'block' : 'none';\n",
              "\n",
              "        async function convertToInteractive(key) {\n",
              "          const element = document.querySelector('#df-fdd89de2-2aaf-4bce-9bd2-9a79f6135319');\n",
              "          const dataTable =\n",
              "            await google.colab.kernel.invokeFunction('convertToInteractive',\n",
              "                                                     [key], {});\n",
              "          if (!dataTable) return;\n",
              "\n",
              "          const docLinkHtml = 'Like what you see? Visit the ' +\n",
              "            '<a target=\"_blank\" href=https://colab.research.google.com/notebooks/data_table.ipynb>data table notebook</a>'\n",
              "            + ' to learn more about interactive tables.';\n",
              "          element.innerHTML = '';\n",
              "          dataTable['output_type'] = 'display_data';\n",
              "          await google.colab.output.renderOutput(dataTable, element);\n",
              "          const docLink = document.createElement('div');\n",
              "          docLink.innerHTML = docLinkHtml;\n",
              "          element.appendChild(docLink);\n",
              "        }\n",
              "      </script>\n",
              "    </div>\n",
              "  </div>\n",
              "  "
            ]
          },
          "metadata": {},
          "execution_count": 77
        }
      ]
    },
    {
      "cell_type": "code",
      "source": [
        "df_re.nunique()"
      ],
      "metadata": {
        "colab": {
          "base_uri": "https://localhost:8080/"
        },
        "id": "TJxaE9QvLx6G",
        "outputId": "049d6101-8e70-466b-f25c-451572a5e455"
      },
      "execution_count": null,
      "outputs": [
        {
          "output_type": "execute_result",
          "data": {
            "text/plain": [
              "city                  91\n",
              "borough                5\n",
              "boro_code              5\n",
              "incident_date     134444\n",
              "incident_year          5\n",
              "incident_month        12\n",
              "season                 4\n",
              "avg_income             5\n",
              "density                5\n",
              "residence              2\n",
              "dtype: int64"
            ]
          },
          "metadata": {},
          "execution_count": 78
        }
      ]
    },
    {
      "cell_type": "code",
      "source": [
        "df_re.isna().sum()"
      ],
      "metadata": {
        "colab": {
          "base_uri": "https://localhost:8080/"
        },
        "id": "YAXszb_RL9wt",
        "outputId": "569eecdd-3e39-4cec-d8c5-5bcc67a6715d"
      },
      "execution_count": null,
      "outputs": [
        {
          "output_type": "execute_result",
          "data": {
            "text/plain": [
              "city              0\n",
              "borough           0\n",
              "boro_code         0\n",
              "incident_date     0\n",
              "incident_year     0\n",
              "incident_month    0\n",
              "season            0\n",
              "avg_income        0\n",
              "density           0\n",
              "residence         0\n",
              "dtype: int64"
            ]
          },
          "metadata": {},
          "execution_count": 79
        }
      ]
    },
    {
      "cell_type": "code",
      "source": [
        "df_re.duplicated().sum()"
      ],
      "metadata": {
        "colab": {
          "base_uri": "https://localhost:8080/"
        },
        "id": "8dmq54RcL5av",
        "outputId": "99ec3788-d30c-41be-9f62-82f5723ca1d7"
      },
      "execution_count": null,
      "outputs": [
        {
          "output_type": "execute_result",
          "data": {
            "text/plain": [
              "2712"
            ]
          },
          "metadata": {},
          "execution_count": 80
        }
      ]
    },
    {
      "cell_type": "code",
      "source": [
        "df_clean = df_re.copy()\n",
        "df_clean = df_clean.drop_duplicates()\n",
        "df_clean.shape[0]"
      ],
      "metadata": {
        "colab": {
          "base_uri": "https://localhost:8080/"
        },
        "id": "imWJJ9RDM4T6",
        "outputId": "24f50454-2fe3-4ba9-c1e6-33a5d2f42411"
      },
      "execution_count": null,
      "outputs": [
        {
          "output_type": "execute_result",
          "data": {
            "text/plain": [
              "135400"
            ]
          },
          "metadata": {},
          "execution_count": 81
        }
      ]
    },
    {
      "cell_type": "code",
      "source": [
        "df_clean.head(5)"
      ],
      "metadata": {
        "colab": {
          "base_uri": "https://localhost:8080/",
          "height": 206
        },
        "id": "tIwt6oqg7JyD",
        "outputId": "0b639701-682a-4483-83f1-0988a186574e"
      },
      "execution_count": null,
      "outputs": [
        {
          "output_type": "execute_result",
          "data": {
            "text/plain": [
              "            city        borough  boro_code       incident_date  incident_year  \\\n",
              "0       NEW YORK      MANHATTAN          1 2023-01-18 21:56:24           2023   \n",
              "1       BROOKLYN       BROOKLYN          3 2023-01-18 07:37:32           2023   \n",
              "2  STATEN ISLAND  STATEN ISLAND          5 2023-01-18 16:15:20           2023   \n",
              "3       NEW YORK      MANHATTAN          1 2023-01-24 22:10:45           2023   \n",
              "4       NEW YORK      MANHATTAN          1 2023-01-18 21:23:56           2023   \n",
              "\n",
              "   incident_month  season  avg_income  density  residence  \n",
              "0               1  winter       93651    26873          0  \n",
              "1               1  winter       66937    14698          0  \n",
              "2               1  winter       89821     3312          1  \n",
              "3               1  winter       93651    26873          0  \n",
              "4               1  winter       93651    26873          0  "
            ],
            "text/html": [
              "\n",
              "  <div id=\"df-aed9dc72-7a34-464c-a354-47539e768341\">\n",
              "    <div class=\"colab-df-container\">\n",
              "      <div>\n",
              "<style scoped>\n",
              "    .dataframe tbody tr th:only-of-type {\n",
              "        vertical-align: middle;\n",
              "    }\n",
              "\n",
              "    .dataframe tbody tr th {\n",
              "        vertical-align: top;\n",
              "    }\n",
              "\n",
              "    .dataframe thead th {\n",
              "        text-align: right;\n",
              "    }\n",
              "</style>\n",
              "<table border=\"1\" class=\"dataframe\">\n",
              "  <thead>\n",
              "    <tr style=\"text-align: right;\">\n",
              "      <th></th>\n",
              "      <th>city</th>\n",
              "      <th>borough</th>\n",
              "      <th>boro_code</th>\n",
              "      <th>incident_date</th>\n",
              "      <th>incident_year</th>\n",
              "      <th>incident_month</th>\n",
              "      <th>season</th>\n",
              "      <th>avg_income</th>\n",
              "      <th>density</th>\n",
              "      <th>residence</th>\n",
              "    </tr>\n",
              "  </thead>\n",
              "  <tbody>\n",
              "    <tr>\n",
              "      <th>0</th>\n",
              "      <td>NEW YORK</td>\n",
              "      <td>MANHATTAN</td>\n",
              "      <td>1</td>\n",
              "      <td>2023-01-18 21:56:24</td>\n",
              "      <td>2023</td>\n",
              "      <td>1</td>\n",
              "      <td>winter</td>\n",
              "      <td>93651</td>\n",
              "      <td>26873</td>\n",
              "      <td>0</td>\n",
              "    </tr>\n",
              "    <tr>\n",
              "      <th>1</th>\n",
              "      <td>BROOKLYN</td>\n",
              "      <td>BROOKLYN</td>\n",
              "      <td>3</td>\n",
              "      <td>2023-01-18 07:37:32</td>\n",
              "      <td>2023</td>\n",
              "      <td>1</td>\n",
              "      <td>winter</td>\n",
              "      <td>66937</td>\n",
              "      <td>14698</td>\n",
              "      <td>0</td>\n",
              "    </tr>\n",
              "    <tr>\n",
              "      <th>2</th>\n",
              "      <td>STATEN ISLAND</td>\n",
              "      <td>STATEN ISLAND</td>\n",
              "      <td>5</td>\n",
              "      <td>2023-01-18 16:15:20</td>\n",
              "      <td>2023</td>\n",
              "      <td>1</td>\n",
              "      <td>winter</td>\n",
              "      <td>89821</td>\n",
              "      <td>3312</td>\n",
              "      <td>1</td>\n",
              "    </tr>\n",
              "    <tr>\n",
              "      <th>3</th>\n",
              "      <td>NEW YORK</td>\n",
              "      <td>MANHATTAN</td>\n",
              "      <td>1</td>\n",
              "      <td>2023-01-24 22:10:45</td>\n",
              "      <td>2023</td>\n",
              "      <td>1</td>\n",
              "      <td>winter</td>\n",
              "      <td>93651</td>\n",
              "      <td>26873</td>\n",
              "      <td>0</td>\n",
              "    </tr>\n",
              "    <tr>\n",
              "      <th>4</th>\n",
              "      <td>NEW YORK</td>\n",
              "      <td>MANHATTAN</td>\n",
              "      <td>1</td>\n",
              "      <td>2023-01-18 21:23:56</td>\n",
              "      <td>2023</td>\n",
              "      <td>1</td>\n",
              "      <td>winter</td>\n",
              "      <td>93651</td>\n",
              "      <td>26873</td>\n",
              "      <td>0</td>\n",
              "    </tr>\n",
              "  </tbody>\n",
              "</table>\n",
              "</div>\n",
              "      <button class=\"colab-df-convert\" onclick=\"convertToInteractive('df-aed9dc72-7a34-464c-a354-47539e768341')\"\n",
              "              title=\"Convert this dataframe to an interactive table.\"\n",
              "              style=\"display:none;\">\n",
              "        \n",
              "  <svg xmlns=\"http://www.w3.org/2000/svg\" height=\"24px\"viewBox=\"0 0 24 24\"\n",
              "       width=\"24px\">\n",
              "    <path d=\"M0 0h24v24H0V0z\" fill=\"none\"/>\n",
              "    <path d=\"M18.56 5.44l.94 2.06.94-2.06 2.06-.94-2.06-.94-.94-2.06-.94 2.06-2.06.94zm-11 1L8.5 8.5l.94-2.06 2.06-.94-2.06-.94L8.5 2.5l-.94 2.06-2.06.94zm10 10l.94 2.06.94-2.06 2.06-.94-2.06-.94-.94-2.06-.94 2.06-2.06.94z\"/><path d=\"M17.41 7.96l-1.37-1.37c-.4-.4-.92-.59-1.43-.59-.52 0-1.04.2-1.43.59L10.3 9.45l-7.72 7.72c-.78.78-.78 2.05 0 2.83L4 21.41c.39.39.9.59 1.41.59.51 0 1.02-.2 1.41-.59l7.78-7.78 2.81-2.81c.8-.78.8-2.07 0-2.86zM5.41 20L4 18.59l7.72-7.72 1.47 1.35L5.41 20z\"/>\n",
              "  </svg>\n",
              "      </button>\n",
              "      \n",
              "  <style>\n",
              "    .colab-df-container {\n",
              "      display:flex;\n",
              "      flex-wrap:wrap;\n",
              "      gap: 12px;\n",
              "    }\n",
              "\n",
              "    .colab-df-convert {\n",
              "      background-color: #E8F0FE;\n",
              "      border: none;\n",
              "      border-radius: 50%;\n",
              "      cursor: pointer;\n",
              "      display: none;\n",
              "      fill: #1967D2;\n",
              "      height: 32px;\n",
              "      padding: 0 0 0 0;\n",
              "      width: 32px;\n",
              "    }\n",
              "\n",
              "    .colab-df-convert:hover {\n",
              "      background-color: #E2EBFA;\n",
              "      box-shadow: 0px 1px 2px rgba(60, 64, 67, 0.3), 0px 1px 3px 1px rgba(60, 64, 67, 0.15);\n",
              "      fill: #174EA6;\n",
              "    }\n",
              "\n",
              "    [theme=dark] .colab-df-convert {\n",
              "      background-color: #3B4455;\n",
              "      fill: #D2E3FC;\n",
              "    }\n",
              "\n",
              "    [theme=dark] .colab-df-convert:hover {\n",
              "      background-color: #434B5C;\n",
              "      box-shadow: 0px 1px 3px 1px rgba(0, 0, 0, 0.15);\n",
              "      filter: drop-shadow(0px 1px 2px rgba(0, 0, 0, 0.3));\n",
              "      fill: #FFFFFF;\n",
              "    }\n",
              "  </style>\n",
              "\n",
              "      <script>\n",
              "        const buttonEl =\n",
              "          document.querySelector('#df-aed9dc72-7a34-464c-a354-47539e768341 button.colab-df-convert');\n",
              "        buttonEl.style.display =\n",
              "          google.colab.kernel.accessAllowed ? 'block' : 'none';\n",
              "\n",
              "        async function convertToInteractive(key) {\n",
              "          const element = document.querySelector('#df-aed9dc72-7a34-464c-a354-47539e768341');\n",
              "          const dataTable =\n",
              "            await google.colab.kernel.invokeFunction('convertToInteractive',\n",
              "                                                     [key], {});\n",
              "          if (!dataTable) return;\n",
              "\n",
              "          const docLinkHtml = 'Like what you see? Visit the ' +\n",
              "            '<a target=\"_blank\" href=https://colab.research.google.com/notebooks/data_table.ipynb>data table notebook</a>'\n",
              "            + ' to learn more about interactive tables.';\n",
              "          element.innerHTML = '';\n",
              "          dataTable['output_type'] = 'display_data';\n",
              "          await google.colab.output.renderOutput(dataTable, element);\n",
              "          const docLink = document.createElement('div');\n",
              "          docLink.innerHTML = docLinkHtml;\n",
              "          element.appendChild(docLink);\n",
              "        }\n",
              "      </script>\n",
              "    </div>\n",
              "  </div>\n",
              "  "
            ]
          },
          "metadata": {},
          "execution_count": 82
        }
      ]
    },
    {
      "cell_type": "markdown",
      "source": [
        "## Types of features\n",
        "\n",
        "Categorical: residence, status, borough, borou_code <br>\n",
        "Ordinal: "
      ],
      "metadata": {
        "id": "eJDkpgRC6bjN"
      }
    },
    {
      "cell_type": "code",
      "source": [
        "df_clean.info()"
      ],
      "metadata": {
        "colab": {
          "base_uri": "https://localhost:8080/"
        },
        "id": "CCisNCPG60V3",
        "outputId": "8d1dda2d-b1fd-4a4a-a9e1-700997e3c37c"
      },
      "execution_count": null,
      "outputs": [
        {
          "output_type": "stream",
          "name": "stdout",
          "text": [
            "<class 'pandas.core.frame.DataFrame'>\n",
            "Int64Index: 135400 entries, 0 to 138621\n",
            "Data columns (total 10 columns):\n",
            " #   Column          Non-Null Count   Dtype         \n",
            "---  ------          --------------   -----         \n",
            " 0   city            135400 non-null  object        \n",
            " 1   borough         135400 non-null  object        \n",
            " 2   boro_code       135400 non-null  int64         \n",
            " 3   incident_date   135400 non-null  datetime64[ns]\n",
            " 4   incident_year   135400 non-null  int64         \n",
            " 5   incident_month  135400 non-null  int64         \n",
            " 6   season          135400 non-null  object        \n",
            " 7   avg_income      135400 non-null  int64         \n",
            " 8   density         135400 non-null  int64         \n",
            " 9   residence       135400 non-null  int64         \n",
            "dtypes: datetime64[ns](1), int64(6), object(3)\n",
            "memory usage: 11.4+ MB\n"
          ]
        }
      ]
    },
    {
      "cell_type": "markdown",
      "source": [
        "## Select Model\n",
        "\n",
        "- target = residence (rat sighting location) <br>\n",
        "- classification model\n",
        "- evaluation score: Accuracy (정확도), Recall (재현율), Precision (정밀도), F1 score, roc_auc score\n",
        "- model: tree based(ordinal encoding), randomforest(기본모델=dt), XGBoost, LGB\n",
        "- feature importance: PermutationImportance() etc."
      ],
      "metadata": {
        "id": "cWKvPvKeNepv"
      }
    },
    {
      "cell_type": "markdown",
      "source": [
        "### Baseline"
      ],
      "metadata": {
        "id": "4fq5TShCApUZ"
      }
    },
    {
      "cell_type": "code",
      "source": [
        "# 기준모델\n",
        "target = \"residence\"\n",
        "df[target].value_counts(normalize=True).plot.pie(autopct=\"%.2f%%\")\n",
        "print(\"Baseline Accuracy:\", df[target].value_counts(normalize=True).max())"
      ],
      "metadata": {
        "colab": {
          "base_uri": "https://localhost:8080/",
          "height": 266
        },
        "id": "gjRRu4ZEVL9-",
        "outputId": "887431e0-2b6c-4250-fc70-ac023311f137"
      },
      "execution_count": null,
      "outputs": [
        {
          "output_type": "stream",
          "name": "stdout",
          "text": [
            "Baseline Accuracy: 0.574135484244671\n"
          ]
        },
        {
          "output_type": "display_data",
          "data": {
            "text/plain": [
              "<Figure size 432x288 with 1 Axes>"
            ],
            "image/png": "[encoded data removed]"
          },
          "metadata": {}
        }
      ]
    },
    {
      "cell_type": "markdown",
      "source": [
        "### Random Forest"
      ],
      "metadata": {
        "id": "h6_5grmLAjW0"
      }
    },
    {
      "cell_type": "code",
      "source": [
        "data = df_clean.drop('incident_date', axis=1)"
      ],
      "metadata": {
        "id": "Qg_KJKovRqNE"
      },
      "execution_count": null,
      "outputs": []
    },
    {
      "cell_type": "code",
      "source": [
        "# split data\n",
        "\n",
        "target = 'residence'\n",
        "features = data.drop(columns=target).columns\n",
        "\n",
        "train, test = train_test_split(data, test_size=0.20, random_state=42)\n",
        "print(train.shape, test.shape)\n",
        "\n",
        "# xy_split\n",
        "X_train,y_train = train[features],train[target]\n",
        "X_test,y_test = test[features],test[target]\n",
        "print(X_train.shape, y_train.shape, X_test.shape, y_test.shape)\n",
        "\n",
        "# 기준모델\n",
        "base = y_train.mode()\n",
        "baseline = len(y_train) * [base]\n",
        "baseline_auc_score = roc_auc_score(y_train, baseline)\n",
        "print(f'Baseline score: {baseline_auc_score}')\n",
        "\n",
        "# OrdinalEncoder() 인코딩, RandomForestClassifier() 모델학습\n",
        "pipe_rf = make_pipeline(\n",
        "    OrdinalEncoder(),\n",
        "    RandomForestClassifier(\n",
        "        random_state=42,\n",
        "        n_jobs=-1,\n",
        "        max_depth=3\n",
        "    ),\n",
        ")\n",
        "pipe_rf.fit(X_train, y_train)\n",
        "\n",
        "# auc score\n",
        "# Cross_val_score()를 활용해서 학습시킨 랜덤포레스트 모델의 검증 score\n",
        "score = cross_val_score(pipe_rf, X_train, y_train, cv=10, n_jobs=-1, scoring=\"roc_auc\")\n",
        "print(f'RandomForest score: {score.mean().round(2)}')\n",
        "\n",
        "# Permuter 정의\n",
        "permuter = PermutationImportance(\n",
        "    pipe_rf.named_steps[\"randomforestclassifier\"],\n",
        "    scoring=\"roc_auc\",\n",
        "    n_iter=5,\n",
        "    random_state=42,\n",
        ")\n",
        "\n",
        "# test dataset 특성 Ordinal Encoding\n",
        "X_test_preprocessed = pipe_rf[0].transform(X_test)\n",
        "\n",
        "# score 다시 계산\n",
        "permuter.fit(X_test_preprocessed, y_test)\n",
        "\n",
        "# 특성별 score 확인\n",
        "eli5.show_weights(\n",
        "    permuter,\n",
        "    top=None,    # to see the complete table, enter top=None\n",
        "    feature_names=X_test.columns.tolist(),\n",
        ")"
      ],
      "metadata": {
        "colab": {
          "base_uri": "https://localhost:8080/",
          "height": 245
        },
        "id": "4L_oz2YtQWXr",
        "outputId": "6e03fd1a-9826-4357-9c45-f917e2e33dec"
      },
      "execution_count": null,
      "outputs": [
        {
          "output_type": "stream",
          "name": "stdout",
          "text": [
            "(108320, 9) (27080, 9)\n",
            "(108320, 8) (108320,) (27080, 8) (27080,)\n",
            "Baseline score: 0.5\n",
            "RandomForest score: 0.62\n"
          ]
        },
        {
          "output_type": "execute_result",
          "data": {
            "text/plain": [
              "<IPython.core.display.HTML object>"
            ],
            "text/html": [
              "\n",
              "    <style>\n",
              "    table.eli5-weights tr:hover {\n",
              "        filter: brightness(85%);\n",
              "    }\n",
              "</style>\n",
              "\n",
              "\n",
              "\n",
              "    \n",
              "\n",
              "    \n",
              "\n",
              "    \n",
              "\n",
              "    \n",
              "\n",
              "    \n",
              "\n",
              "    \n",
              "\n",
              "\n",
              "    \n",
              "\n",
              "    \n",
              "\n",
              "    \n",
              "\n",
              "    \n",
              "\n",
              "    \n",
              "\n",
              "    \n",
              "\n",
              "\n",
              "    \n",
              "\n",
              "    \n",
              "\n",
              "    \n",
              "\n",
              "    \n",
              "\n",
              "    \n",
              "        <table class=\"eli5-weights eli5-feature-importances\" style=\"border-collapse: collapse; border: none; margin-top: 0em; table-layout: auto;\">\n",
              "    <thead>\n",
              "    <tr style=\"border: none;\">\n",
              "        <th style=\"padding: 0 1em 0 0.5em; text-align: right; border: none;\">Weight</th>\n",
              "        <th style=\"padding: 0 0.5em 0 0.5em; text-align: left; border: none;\">Feature</th>\n",
              "    </tr>\n",
              "    </thead>\n",
              "    <tbody>\n",
              "    \n",
              "        <tr style=\"background-color: hsl(120, 100.00%, 80.00%); border: none;\">\n",
              "            <td style=\"padding: 0 1em 0 0.5em; text-align: right; border: none;\">\n",
              "                0.0357\n",
              "                \n",
              "                    &plusmn; 0.0074\n",
              "                \n",
              "            </td>\n",
              "            <td style=\"padding: 0 0.5em 0 0.5em; text-align: left; border: none;\">\n",
              "                city\n",
              "            </td>\n",
              "        </tr>\n",
              "    \n",
              "        <tr style=\"background-color: hsl(120, 100.00%, 82.86%); border: none;\">\n",
              "            <td style=\"padding: 0 1em 0 0.5em; text-align: right; border: none;\">\n",
              "                0.0286\n",
              "                \n",
              "                    &plusmn; 0.0052\n",
              "                \n",
              "            </td>\n",
              "            <td style=\"padding: 0 0.5em 0 0.5em; text-align: left; border: none;\">\n",
              "                boro_code\n",
              "            </td>\n",
              "        </tr>\n",
              "    \n",
              "        <tr style=\"background-color: hsl(120, 100.00%, 92.20%); border: none;\">\n",
              "            <td style=\"padding: 0 1em 0 0.5em; text-align: right; border: none;\">\n",
              "                0.0093\n",
              "                \n",
              "                    &plusmn; 0.0032\n",
              "                \n",
              "            </td>\n",
              "            <td style=\"padding: 0 0.5em 0 0.5em; text-align: left; border: none;\">\n",
              "                density\n",
              "            </td>\n",
              "        </tr>\n",
              "    \n",
              "        <tr style=\"background-color: hsl(120, 100.00%, 94.16%); border: none;\">\n",
              "            <td style=\"padding: 0 1em 0 0.5em; text-align: right; border: none;\">\n",
              "                0.0062\n",
              "                \n",
              "                    &plusmn; 0.0019\n",
              "                \n",
              "            </td>\n",
              "            <td style=\"padding: 0 0.5em 0 0.5em; text-align: left; border: none;\">\n",
              "                incident_year\n",
              "            </td>\n",
              "        </tr>\n",
              "    \n",
              "        <tr style=\"background-color: hsl(120, 100.00%, 96.34%); border: none;\">\n",
              "            <td style=\"padding: 0 1em 0 0.5em; text-align: right; border: none;\">\n",
              "                0.0032\n",
              "                \n",
              "                    &plusmn; 0.0020\n",
              "                \n",
              "            </td>\n",
              "            <td style=\"padding: 0 0.5em 0 0.5em; text-align: left; border: none;\">\n",
              "                avg_income\n",
              "            </td>\n",
              "        </tr>\n",
              "    \n",
              "        <tr style=\"background-color: hsl(120, 100.00%, 96.93%); border: none;\">\n",
              "            <td style=\"padding: 0 1em 0 0.5em; text-align: right; border: none;\">\n",
              "                0.0025\n",
              "                \n",
              "                    &plusmn; 0.0004\n",
              "                \n",
              "            </td>\n",
              "            <td style=\"padding: 0 0.5em 0 0.5em; text-align: left; border: none;\">\n",
              "                borough\n",
              "            </td>\n",
              "        </tr>\n",
              "    \n",
              "        <tr style=\"background-color: hsl(120, 100.00%, 98.14%); border: none;\">\n",
              "            <td style=\"padding: 0 1em 0 0.5em; text-align: right; border: none;\">\n",
              "                0.0012\n",
              "                \n",
              "                    &plusmn; 0.0012\n",
              "                \n",
              "            </td>\n",
              "            <td style=\"padding: 0 0.5em 0 0.5em; text-align: left; border: none;\">\n",
              "                season\n",
              "            </td>\n",
              "        </tr>\n",
              "    \n",
              "        <tr style=\"background-color: hsl(120, 100.00%, 98.38%); border: none;\">\n",
              "            <td style=\"padding: 0 1em 0 0.5em; text-align: right; border: none;\">\n",
              "                0.0010\n",
              "                \n",
              "                    &plusmn; 0.0006\n",
              "                \n",
              "            </td>\n",
              "            <td style=\"padding: 0 0.5em 0 0.5em; text-align: left; border: none;\">\n",
              "                incident_month\n",
              "            </td>\n",
              "        </tr>\n",
              "    \n",
              "    \n",
              "    </tbody>\n",
              "</table>\n",
              "    \n",
              "\n",
              "    \n",
              "\n",
              "\n",
              "    \n",
              "\n",
              "    \n",
              "\n",
              "    \n",
              "\n",
              "    \n",
              "\n",
              "    \n",
              "\n",
              "    \n",
              "\n",
              "\n",
              "\n"
            ]
          },
          "metadata": {},
          "execution_count": 86
        }
      ]
    },
    {
      "cell_type": "code",
      "source": [
        "def show_result(pipe):\n",
        "\tprint('train auc-score: ', roc_auc_score(y_train, pipe.predict(X_train)))\n",
        "\tprint('test auc-score: ', roc_auc_score(y_test, pipe.predict(X_test)))\n",
        "\n",
        "show_result(pipe_rf)"
      ],
      "metadata": {
        "colab": {
          "base_uri": "https://localhost:8080/"
        },
        "id": "n7GLFO_grTaU",
        "outputId": "0d69cf35-da50-41d3-d396-73b95645e506"
      },
      "execution_count": null,
      "outputs": [
        {
          "output_type": "stream",
          "name": "stdout",
          "text": [
            "train auc-score:  0.5727029736318531\n",
            "test auc-score:  0.5765067071374547\n"
          ]
        }
      ]
    },
    {
      "cell_type": "code",
      "source": [
        "# accuracy\n",
        "# Cross_val_score()를 활용해서 학습시킨 랜덤포레스트 모델의 검증 score\n",
        "score = cross_val_score(pipe_rf, X_train, y_train, cv=10, n_jobs=-1, scoring=\"accuracy\")\n",
        "print(f'RandomForest score: {score.mean().round(2)}')\n",
        "\n",
        "# Permuter 정의\n",
        "permuter = PermutationImportance(\n",
        "    pipe_rf.named_steps[\"randomforestclassifier\"],\n",
        "    scoring=\"accuracy\",\n",
        "    n_iter=5,\n",
        "    random_state=42,\n",
        ")\n",
        "\n",
        "# test dataset 특성 Ordinal Encoding\n",
        "X_test_preprocessed = pipe_rf[0].transform(X_test)\n",
        "\n",
        "# score 다시 계산\n",
        "permuter.fit(X_test_preprocessed, y_test)\n",
        "\n",
        "# 특성별 score 확인\n",
        "eli5.show_weights(\n",
        "    permuter,\n",
        "    top=None,    # to see the complete table, enter top=None\n",
        "    feature_names=X_test.columns.tolist(),\n",
        ")"
      ],
      "metadata": {
        "colab": {
          "base_uri": "https://localhost:8080/",
          "height": 191
        },
        "id": "w6prg_Uzrifm",
        "outputId": "b058f99d-c6cb-4878-ff0c-722f83f77530"
      },
      "execution_count": null,
      "outputs": [
        {
          "output_type": "stream",
          "name": "stdout",
          "text": [
            "RandomForest score: 0.61\n"
          ]
        },
        {
          "output_type": "execute_result",
          "data": {
            "text/plain": [
              "<IPython.core.display.HTML object>"
            ],
            "text/html": [
              "\n",
              "    <style>\n",
              "    table.eli5-weights tr:hover {\n",
              "        filter: brightness(85%);\n",
              "    }\n",
              "</style>\n",
              "\n",
              "\n",
              "\n",
              "    \n",
              "\n",
              "    \n",
              "\n",
              "    \n",
              "\n",
              "    \n",
              "\n",
              "    \n",
              "\n",
              "    \n",
              "\n",
              "\n",
              "    \n",
              "\n",
              "    \n",
              "\n",
              "    \n",
              "\n",
              "    \n",
              "\n",
              "    \n",
              "\n",
              "    \n",
              "\n",
              "\n",
              "    \n",
              "\n",
              "    \n",
              "\n",
              "    \n",
              "\n",
              "    \n",
              "\n",
              "    \n",
              "        <table class=\"eli5-weights eli5-feature-importances\" style=\"border-collapse: collapse; border: none; margin-top: 0em; table-layout: auto;\">\n",
              "    <thead>\n",
              "    <tr style=\"border: none;\">\n",
              "        <th style=\"padding: 0 1em 0 0.5em; text-align: right; border: none;\">Weight</th>\n",
              "        <th style=\"padding: 0 0.5em 0 0.5em; text-align: left; border: none;\">Feature</th>\n",
              "    </tr>\n",
              "    </thead>\n",
              "    <tbody>\n",
              "    \n",
              "        <tr style=\"background-color: hsl(120, 100.00%, 80.00%); border: none;\">\n",
              "            <td style=\"padding: 0 1em 0 0.5em; text-align: right; border: none;\">\n",
              "                0.0286\n",
              "                \n",
              "                    &plusmn; 0.0026\n",
              "                \n",
              "            </td>\n",
              "            <td style=\"padding: 0 0.5em 0 0.5em; text-align: left; border: none;\">\n",
              "                boro_code\n",
              "            </td>\n",
              "        </tr>\n",
              "    \n",
              "        <tr style=\"background-color: hsl(120, 100.00%, 97.21%); border: none;\">\n",
              "            <td style=\"padding: 0 1em 0 0.5em; text-align: right; border: none;\">\n",
              "                0.0017\n",
              "                \n",
              "                    &plusmn; 0.0018\n",
              "                \n",
              "            </td>\n",
              "            <td style=\"padding: 0 0.5em 0 0.5em; text-align: left; border: none;\">\n",
              "                density\n",
              "            </td>\n",
              "        </tr>\n",
              "    \n",
              "        <tr style=\"background-color: hsl(0, 100.00%, 100.00%); border: none;\">\n",
              "            <td style=\"padding: 0 1em 0 0.5em; text-align: right; border: none;\">\n",
              "                0\n",
              "                \n",
              "                    &plusmn; 0.0000\n",
              "                \n",
              "            </td>\n",
              "            <td style=\"padding: 0 0.5em 0 0.5em; text-align: left; border: none;\">\n",
              "                avg_income\n",
              "            </td>\n",
              "        </tr>\n",
              "    \n",
              "        <tr style=\"background-color: hsl(0, 100.00%, 100.00%); border: none;\">\n",
              "            <td style=\"padding: 0 1em 0 0.5em; text-align: right; border: none;\">\n",
              "                0\n",
              "                \n",
              "                    &plusmn; 0.0000\n",
              "                \n",
              "            </td>\n",
              "            <td style=\"padding: 0 0.5em 0 0.5em; text-align: left; border: none;\">\n",
              "                season\n",
              "            </td>\n",
              "        </tr>\n",
              "    \n",
              "        <tr style=\"background-color: hsl(0, 100.00%, 100.00%); border: none;\">\n",
              "            <td style=\"padding: 0 1em 0 0.5em; text-align: right; border: none;\">\n",
              "                0\n",
              "                \n",
              "                    &plusmn; 0.0000\n",
              "                \n",
              "            </td>\n",
              "            <td style=\"padding: 0 0.5em 0 0.5em; text-align: left; border: none;\">\n",
              "                incident_month\n",
              "            </td>\n",
              "        </tr>\n",
              "    \n",
              "        <tr style=\"background-color: hsl(0, 100.00%, 100.00%); border: none;\">\n",
              "            <td style=\"padding: 0 1em 0 0.5em; text-align: right; border: none;\">\n",
              "                0\n",
              "                \n",
              "                    &plusmn; 0.0000\n",
              "                \n",
              "            </td>\n",
              "            <td style=\"padding: 0 0.5em 0 0.5em; text-align: left; border: none;\">\n",
              "                incident_year\n",
              "            </td>\n",
              "        </tr>\n",
              "    \n",
              "        <tr style=\"background-color: hsl(0, 100.00%, 100.00%); border: none;\">\n",
              "            <td style=\"padding: 0 1em 0 0.5em; text-align: right; border: none;\">\n",
              "                0\n",
              "                \n",
              "                    &plusmn; 0.0000\n",
              "                \n",
              "            </td>\n",
              "            <td style=\"padding: 0 0.5em 0 0.5em; text-align: left; border: none;\">\n",
              "                borough\n",
              "            </td>\n",
              "        </tr>\n",
              "    \n",
              "        <tr style=\"background-color: hsl(0, 100.00%, 100.00%); border: none;\">\n",
              "            <td style=\"padding: 0 1em 0 0.5em; text-align: right; border: none;\">\n",
              "                0\n",
              "                \n",
              "                    &plusmn; 0.0000\n",
              "                \n",
              "            </td>\n",
              "            <td style=\"padding: 0 0.5em 0 0.5em; text-align: left; border: none;\">\n",
              "                city\n",
              "            </td>\n",
              "        </tr>\n",
              "    \n",
              "    \n",
              "    </tbody>\n",
              "</table>\n",
              "    \n",
              "\n",
              "    \n",
              "\n",
              "\n",
              "    \n",
              "\n",
              "    \n",
              "\n",
              "    \n",
              "\n",
              "    \n",
              "\n",
              "    \n",
              "\n",
              "    \n",
              "\n",
              "\n",
              "\n"
            ]
          },
          "metadata": {},
          "execution_count": 88
        }
      ]
    },
    {
      "cell_type": "code",
      "source": [
        "y_pred_rf = pipe_rf.predict(X_test)\n",
        "cm_rf = confusion_matrix(y_test, y_pred_rf)\n",
        "print(\"Confusion Matrix:\")\n",
        "print(cm_rf)"
      ],
      "metadata": {
        "colab": {
          "base_uri": "https://localhost:8080/"
        },
        "id": "3NWOnHSktG2w",
        "outputId": "5693c3c3-1eae-4b4b-cb24-67d4e21d32cd"
      },
      "execution_count": null,
      "outputs": [
        {
          "output_type": "stream",
          "name": "stdout",
          "text": [
            "Confusion Matrix:\n",
            "[[13190  2156]\n",
            " [ 8290  3444]]\n"
          ]
        }
      ]
    },
    {
      "cell_type": "code",
      "source": [
        "def show_result(pipe):\n",
        "\tprint('train auc-score: ', accuracy_score(y_train, pipe.predict(X_train)))\n",
        "\tprint('test auc-score: ', accuracy_score(y_test, pipe.predict(X_test)))\n",
        "\n",
        "show_result(pipe_rf)"
      ],
      "metadata": {
        "colab": {
          "base_uri": "https://localhost:8080/"
        },
        "id": "bm9rQqSBrqiE",
        "outputId": "7dd5e95b-bf8b-4220-def7-8c8b9ce6f91b"
      },
      "execution_count": null,
      "outputs": [
        {
          "output_type": "stream",
          "name": "stdout",
          "text": [
            "train auc-score:  0.6141617429837518\n",
            "test auc-score:  0.6142540620384047\n"
          ]
        }
      ]
    },
    {
      "cell_type": "code",
      "source": [
        "# f1\n",
        "# 기준모델\n",
        "base = y_train.mode()\n",
        "baseline = len(y_train) * [base]\n",
        "baseline_auc_score = f1_score(y_train, baseline)\n",
        "print(f'Baseline score: {baseline_auc_score}')\n",
        "\n",
        "# OrdinalEncoder() 인코딩, RandomForestClassifier() 모델학습\n",
        "pipe_rf = make_pipeline(\n",
        "    OrdinalEncoder(),\n",
        "    RandomForestClassifier(\n",
        "        random_state=42,\n",
        "        n_jobs=-1,\n",
        "        max_depth=3\n",
        "    ),\n",
        ")\n",
        "pipe_rf.fit(X_train, y_train)\n",
        "\n",
        "\n",
        "# Cross_val_score()를 활용해서 학습시킨 랜덤포레스트 모델의 검증 score\n",
        "score = cross_val_score(pipe_rf, X_train, y_train, cv=10, n_jobs=-1, scoring=\"f1\")\n",
        "print(f'RandomForest score: {score.mean().round(2)}')\n",
        "\n",
        "# Permuter 정의\n",
        "permuter = PermutationImportance(\n",
        "    pipe_rf.named_steps[\"randomforestclassifier\"],\n",
        "    scoring=\"f1\",\n",
        "    n_iter=5,\n",
        "    random_state=42,\n",
        ")\n",
        "\n",
        "# test dataset 특성 Ordinal Encoding\n",
        "X_test_preprocessed = pipe_rf[0].transform(X_test)\n",
        "\n",
        "# score 다시 계산\n",
        "permuter.fit(X_test_preprocessed, y_test)\n",
        "\n",
        "# 특성별 score 확인\n",
        "eli5.show_weights(\n",
        "    permuter,\n",
        "    top=None,    # to see the complete table, enter top=None\n",
        "    feature_names=X_test.columns.tolist(),\n",
        ")"
      ],
      "metadata": {
        "colab": {
          "base_uri": "https://localhost:8080/",
          "height": 209
        },
        "id": "xO_QSouopymo",
        "outputId": "d0c3bb32-cea3-400c-af12-2866a6d1eec8"
      },
      "execution_count": null,
      "outputs": [
        {
          "output_type": "stream",
          "name": "stdout",
          "text": [
            "Baseline score: 0.0\n",
            "RandomForest score: 0.39\n"
          ]
        },
        {
          "output_type": "execute_result",
          "data": {
            "text/plain": [
              "<IPython.core.display.HTML object>"
            ],
            "text/html": [
              "\n",
              "    <style>\n",
              "    table.eli5-weights tr:hover {\n",
              "        filter: brightness(85%);\n",
              "    }\n",
              "</style>\n",
              "\n",
              "\n",
              "\n",
              "    \n",
              "\n",
              "    \n",
              "\n",
              "    \n",
              "\n",
              "    \n",
              "\n",
              "    \n",
              "\n",
              "    \n",
              "\n",
              "\n",
              "    \n",
              "\n",
              "    \n",
              "\n",
              "    \n",
              "\n",
              "    \n",
              "\n",
              "    \n",
              "\n",
              "    \n",
              "\n",
              "\n",
              "    \n",
              "\n",
              "    \n",
              "\n",
              "    \n",
              "\n",
              "    \n",
              "\n",
              "    \n",
              "        <table class=\"eli5-weights eli5-feature-importances\" style=\"border-collapse: collapse; border: none; margin-top: 0em; table-layout: auto;\">\n",
              "    <thead>\n",
              "    <tr style=\"border: none;\">\n",
              "        <th style=\"padding: 0 1em 0 0.5em; text-align: right; border: none;\">Weight</th>\n",
              "        <th style=\"padding: 0 0.5em 0 0.5em; text-align: left; border: none;\">Feature</th>\n",
              "    </tr>\n",
              "    </thead>\n",
              "    <tbody>\n",
              "    \n",
              "        <tr style=\"background-color: hsl(120, 100.00%, 80.00%); border: none;\">\n",
              "            <td style=\"padding: 0 1em 0 0.5em; text-align: right; border: none;\">\n",
              "                0.1011\n",
              "                \n",
              "                    &plusmn; 0.0053\n",
              "                \n",
              "            </td>\n",
              "            <td style=\"padding: 0 0.5em 0 0.5em; text-align: left; border: none;\">\n",
              "                boro_code\n",
              "            </td>\n",
              "        </tr>\n",
              "    \n",
              "        <tr style=\"background-color: hsl(120, 100.00%, 84.61%); border: none;\">\n",
              "            <td style=\"padding: 0 1em 0 0.5em; text-align: right; border: none;\">\n",
              "                0.0695\n",
              "                \n",
              "                    &plusmn; 0.0037\n",
              "                \n",
              "            </td>\n",
              "            <td style=\"padding: 0 0.5em 0 0.5em; text-align: left; border: none;\">\n",
              "                density\n",
              "            </td>\n",
              "        </tr>\n",
              "    \n",
              "        <tr style=\"background-color: hsl(0, 100.00%, 100.00%); border: none;\">\n",
              "            <td style=\"padding: 0 1em 0 0.5em; text-align: right; border: none;\">\n",
              "                0\n",
              "                \n",
              "                    &plusmn; 0.0000\n",
              "                \n",
              "            </td>\n",
              "            <td style=\"padding: 0 0.5em 0 0.5em; text-align: left; border: none;\">\n",
              "                avg_income\n",
              "            </td>\n",
              "        </tr>\n",
              "    \n",
              "        <tr style=\"background-color: hsl(0, 100.00%, 100.00%); border: none;\">\n",
              "            <td style=\"padding: 0 1em 0 0.5em; text-align: right; border: none;\">\n",
              "                0\n",
              "                \n",
              "                    &plusmn; 0.0000\n",
              "                \n",
              "            </td>\n",
              "            <td style=\"padding: 0 0.5em 0 0.5em; text-align: left; border: none;\">\n",
              "                season\n",
              "            </td>\n",
              "        </tr>\n",
              "    \n",
              "        <tr style=\"background-color: hsl(0, 100.00%, 100.00%); border: none;\">\n",
              "            <td style=\"padding: 0 1em 0 0.5em; text-align: right; border: none;\">\n",
              "                0\n",
              "                \n",
              "                    &plusmn; 0.0000\n",
              "                \n",
              "            </td>\n",
              "            <td style=\"padding: 0 0.5em 0 0.5em; text-align: left; border: none;\">\n",
              "                incident_month\n",
              "            </td>\n",
              "        </tr>\n",
              "    \n",
              "        <tr style=\"background-color: hsl(0, 100.00%, 100.00%); border: none;\">\n",
              "            <td style=\"padding: 0 1em 0 0.5em; text-align: right; border: none;\">\n",
              "                0\n",
              "                \n",
              "                    &plusmn; 0.0000\n",
              "                \n",
              "            </td>\n",
              "            <td style=\"padding: 0 0.5em 0 0.5em; text-align: left; border: none;\">\n",
              "                incident_year\n",
              "            </td>\n",
              "        </tr>\n",
              "    \n",
              "        <tr style=\"background-color: hsl(0, 100.00%, 100.00%); border: none;\">\n",
              "            <td style=\"padding: 0 1em 0 0.5em; text-align: right; border: none;\">\n",
              "                0\n",
              "                \n",
              "                    &plusmn; 0.0000\n",
              "                \n",
              "            </td>\n",
              "            <td style=\"padding: 0 0.5em 0 0.5em; text-align: left; border: none;\">\n",
              "                borough\n",
              "            </td>\n",
              "        </tr>\n",
              "    \n",
              "        <tr style=\"background-color: hsl(0, 100.00%, 100.00%); border: none;\">\n",
              "            <td style=\"padding: 0 1em 0 0.5em; text-align: right; border: none;\">\n",
              "                0\n",
              "                \n",
              "                    &plusmn; 0.0000\n",
              "                \n",
              "            </td>\n",
              "            <td style=\"padding: 0 0.5em 0 0.5em; text-align: left; border: none;\">\n",
              "                city\n",
              "            </td>\n",
              "        </tr>\n",
              "    \n",
              "    \n",
              "    </tbody>\n",
              "</table>\n",
              "    \n",
              "\n",
              "    \n",
              "\n",
              "\n",
              "    \n",
              "\n",
              "    \n",
              "\n",
              "    \n",
              "\n",
              "    \n",
              "\n",
              "    \n",
              "\n",
              "    \n",
              "\n",
              "\n",
              "\n"
            ]
          },
          "metadata": {},
          "execution_count": 91
        }
      ]
    },
    {
      "cell_type": "code",
      "source": [
        "def show_result(pipe):\n",
        "\tprint('train f1-score: ', f1_score(y_train, pipe.predict(X_train)))\n",
        "\tprint('test f1-score: ', f1_score(y_test, pipe.predict(X_test)))\n",
        "\n",
        "show_result(pipe_rf)"
      ],
      "metadata": {
        "colab": {
          "base_uri": "https://localhost:8080/"
        },
        "id": "PUXtPAqGqLzC",
        "outputId": "a2758c55-0164-4923-f463-2cc47dec2631"
      },
      "execution_count": null,
      "outputs": [
        {
          "output_type": "stream",
          "name": "stdout",
          "text": [
            "train f1-score:  0.3909355872923346\n",
            "test f1-score:  0.39736933194877117\n"
          ]
        }
      ]
    },
    {
      "cell_type": "markdown",
      "source": [
        "### xgbclassifier\n",
        "auc socre"
      ],
      "metadata": {
        "id": "AUWwGt0XyRps"
      }
    },
    {
      "cell_type": "code",
      "source": [
        "# encoding & modeling → train the model using .fit()\n",
        "encoder = OrdinalEncoder()\n",
        "X_train_encoded = encoder.fit_transform(X_train)\n",
        "X_test_encoded = encoder.transform(X_test)\n",
        "\n",
        "model = XGBClassifier(\n",
        "    objective=\"binary:logistic\",\n",
        "    eval_metric=\"accuracy\",\n",
        "    n_estimators=987654321,\n",
        "    random_state=42,\n",
        "    n_jobs=-1,\n",
        "    max_depth=5,\n",
        "    learning_rate=0.1,\n",
        ")\n",
        "\n",
        "watchlist = [(X_train_encoded, y_train), (X_test_encoded, y_test)]\n",
        "\n",
        "model.fit(\n",
        "    X_train_encoded,\n",
        "    y_train,\n",
        "    eval_set=watchlist,\n",
        "    early_stopping_rounds=50,  # 50 rounds 동안 성능 개선이 없으면 학습을 중지합니다.\n",
        ")\n",
        "\n",
        "# making a pipeline to decrease code errors and simplify the code\n",
        "pipe_xgb = make_pipeline(\n",
        "    OrdinalEncoder(),\n",
        "    XGBClassifier(max_depth=5, random_state=42),\n",
        ")\n",
        "pipe_xgb.fit(X_train, y_train)"
      ],
      "metadata": {
        "colab": {
          "base_uri": "https://localhost:8080/",
          "height": 604
        },
        "id": "FLGht2mlugM-",
        "outputId": "7a74c560-6e49-4a82-8e7f-8f3e682e49ca"
      },
      "execution_count": null,
      "outputs": [
        {
          "output_type": "error",
          "ename": "XGBoostError",
          "evalue": "ignored",
          "traceback": [
            "\u001b[0;31m---------------------------------------------------------------------------\u001b[0m",
            "\u001b[0;31mXGBoostError\u001b[0m                              Traceback (most recent call last)",
            "\u001b[0;32m<ipython-input-93-d5670aec2b0d>\u001b[0m in \u001b[0;36m<module>\u001b[0;34m\u001b[0m\n\u001b[1;32m     16\u001b[0m \u001b[0mwatchlist\u001b[0m \u001b[0;34m=\u001b[0m \u001b[0;34m[\u001b[0m\u001b[0;34m(\u001b[0m\u001b[0mX_train_encoded\u001b[0m\u001b[0;34m,\u001b[0m \u001b[0my_train\u001b[0m\u001b[0;34m)\u001b[0m\u001b[0;34m,\u001b[0m \u001b[0;34m(\u001b[0m\u001b[0mX_test_encoded\u001b[0m\u001b[0;34m,\u001b[0m \u001b[0my_test\u001b[0m\u001b[0;34m)\u001b[0m\u001b[0;34m]\u001b[0m\u001b[0;34m\u001b[0m\u001b[0;34m\u001b[0m\u001b[0m\n\u001b[1;32m     17\u001b[0m \u001b[0;34m\u001b[0m\u001b[0m\n\u001b[0;32m---> 18\u001b[0;31m model.fit(\n\u001b[0m\u001b[1;32m     19\u001b[0m     \u001b[0mX_train_encoded\u001b[0m\u001b[0;34m,\u001b[0m\u001b[0;34m\u001b[0m\u001b[0;34m\u001b[0m\u001b[0m\n\u001b[1;32m     20\u001b[0m     \u001b[0my_train\u001b[0m\u001b[0;34m,\u001b[0m\u001b[0;34m\u001b[0m\u001b[0;34m\u001b[0m\u001b[0m\n",
            "\u001b[0;32m/usr/local/lib/python3.8/dist-packages/xgboost/sklearn.py\u001b[0m in \u001b[0;36mfit\u001b[0;34m(self, X, y, sample_weight, eval_set, eval_metric, early_stopping_rounds, verbose, xgb_model, sample_weight_eval_set, callbacks)\u001b[0m\n\u001b[1;32m    726\u001b[0m                                     missing=self.missing, nthread=self.n_jobs)\n\u001b[1;32m    727\u001b[0m \u001b[0;34m\u001b[0m\u001b[0m\n\u001b[0;32m--> 728\u001b[0;31m         self._Booster = train(xgb_options, train_dmatrix, self.get_num_boosting_rounds(),\n\u001b[0m\u001b[1;32m    729\u001b[0m                               \u001b[0mevals\u001b[0m\u001b[0;34m=\u001b[0m\u001b[0mevals\u001b[0m\u001b[0;34m,\u001b[0m \u001b[0mearly_stopping_rounds\u001b[0m\u001b[0;34m=\u001b[0m\u001b[0mearly_stopping_rounds\u001b[0m\u001b[0;34m,\u001b[0m\u001b[0;34m\u001b[0m\u001b[0;34m\u001b[0m\u001b[0m\n\u001b[1;32m    730\u001b[0m                               \u001b[0mevals_result\u001b[0m\u001b[0;34m=\u001b[0m\u001b[0mevals_result\u001b[0m\u001b[0;34m,\u001b[0m \u001b[0mobj\u001b[0m\u001b[0;34m=\u001b[0m\u001b[0mobj\u001b[0m\u001b[0;34m,\u001b[0m \u001b[0mfeval\u001b[0m\u001b[0;34m=\u001b[0m\u001b[0mfeval\u001b[0m\u001b[0;34m,\u001b[0m\u001b[0;34m\u001b[0m\u001b[0;34m\u001b[0m\u001b[0m\n",
            "\u001b[0;32m/usr/local/lib/python3.8/dist-packages/xgboost/training.py\u001b[0m in \u001b[0;36mtrain\u001b[0;34m(params, dtrain, num_boost_round, evals, obj, feval, maximize, early_stopping_rounds, evals_result, verbose_eval, xgb_model, callbacks, learning_rates)\u001b[0m\n\u001b[1;32m    210\u001b[0m         \u001b[0mcallbacks\u001b[0m\u001b[0;34m.\u001b[0m\u001b[0mappend\u001b[0m\u001b[0;34m(\u001b[0m\u001b[0mcallback\u001b[0m\u001b[0;34m.\u001b[0m\u001b[0mreset_learning_rate\u001b[0m\u001b[0;34m(\u001b[0m\u001b[0mlearning_rates\u001b[0m\u001b[0;34m)\u001b[0m\u001b[0;34m)\u001b[0m\u001b[0;34m\u001b[0m\u001b[0;34m\u001b[0m\u001b[0m\n\u001b[1;32m    211\u001b[0m \u001b[0;34m\u001b[0m\u001b[0m\n\u001b[0;32m--> 212\u001b[0;31m     return _train_internal(params, dtrain,\n\u001b[0m\u001b[1;32m    213\u001b[0m                            \u001b[0mnum_boost_round\u001b[0m\u001b[0;34m=\u001b[0m\u001b[0mnum_boost_round\u001b[0m\u001b[0;34m,\u001b[0m\u001b[0;34m\u001b[0m\u001b[0;34m\u001b[0m\u001b[0m\n\u001b[1;32m    214\u001b[0m                            \u001b[0mevals\u001b[0m\u001b[0;34m=\u001b[0m\u001b[0mevals\u001b[0m\u001b[0;34m,\u001b[0m\u001b[0;34m\u001b[0m\u001b[0;34m\u001b[0m\u001b[0m\n",
            "\u001b[0;32m/usr/local/lib/python3.8/dist-packages/xgboost/training.py\u001b[0m in \u001b[0;36m_train_internal\u001b[0;34m(params, dtrain, num_boost_round, evals, obj, feval, xgb_model, callbacks)\u001b[0m\n\u001b[1;32m     72\u001b[0m         \u001b[0;31m# Skip the first update if it is a recovery step.\u001b[0m\u001b[0;34m\u001b[0m\u001b[0;34m\u001b[0m\u001b[0;34m\u001b[0m\u001b[0m\n\u001b[1;32m     73\u001b[0m         \u001b[0;32mif\u001b[0m \u001b[0mversion\u001b[0m \u001b[0;34m%\u001b[0m \u001b[0;36m2\u001b[0m \u001b[0;34m==\u001b[0m \u001b[0;36m0\u001b[0m\u001b[0;34m:\u001b[0m\u001b[0;34m\u001b[0m\u001b[0;34m\u001b[0m\u001b[0m\n\u001b[0;32m---> 74\u001b[0;31m             \u001b[0mbst\u001b[0m\u001b[0;34m.\u001b[0m\u001b[0mupdate\u001b[0m\u001b[0;34m(\u001b[0m\u001b[0mdtrain\u001b[0m\u001b[0;34m,\u001b[0m \u001b[0mi\u001b[0m\u001b[0;34m,\u001b[0m \u001b[0mobj\u001b[0m\u001b[0;34m)\u001b[0m\u001b[0;34m\u001b[0m\u001b[0;34m\u001b[0m\u001b[0m\n\u001b[0m\u001b[1;32m     75\u001b[0m             \u001b[0mbst\u001b[0m\u001b[0;34m.\u001b[0m\u001b[0msave_rabit_checkpoint\u001b[0m\u001b[0;34m(\u001b[0m\u001b[0;34m)\u001b[0m\u001b[0;34m\u001b[0m\u001b[0;34m\u001b[0m\u001b[0m\n\u001b[1;32m     76\u001b[0m             \u001b[0mversion\u001b[0m \u001b[0;34m+=\u001b[0m \u001b[0;36m1\u001b[0m\u001b[0;34m\u001b[0m\u001b[0;34m\u001b[0m\u001b[0m\n",
            "\u001b[0;32m/usr/local/lib/python3.8/dist-packages/xgboost/core.py\u001b[0m in \u001b[0;36mupdate\u001b[0;34m(self, dtrain, iteration, fobj)\u001b[0m\n\u001b[1;32m   1106\u001b[0m \u001b[0;34m\u001b[0m\u001b[0m\n\u001b[1;32m   1107\u001b[0m         \u001b[0;32mif\u001b[0m \u001b[0mfobj\u001b[0m \u001b[0;32mis\u001b[0m \u001b[0;32mNone\u001b[0m\u001b[0;34m:\u001b[0m\u001b[0;34m\u001b[0m\u001b[0;34m\u001b[0m\u001b[0m\n\u001b[0;32m-> 1108\u001b[0;31m             _check_call(_LIB.XGBoosterUpdateOneIter(self.handle, ctypes.c_int(iteration),\n\u001b[0m\u001b[1;32m   1109\u001b[0m                                                     dtrain.handle))\n\u001b[1;32m   1110\u001b[0m         \u001b[0;32melse\u001b[0m\u001b[0;34m:\u001b[0m\u001b[0;34m\u001b[0m\u001b[0;34m\u001b[0m\u001b[0m\n",
            "\u001b[0;32m/usr/local/lib/python3.8/dist-packages/xgboost/core.py\u001b[0m in \u001b[0;36m_check_call\u001b[0;34m(ret)\u001b[0m\n\u001b[1;32m    174\u001b[0m     \"\"\"\n\u001b[1;32m    175\u001b[0m     \u001b[0;32mif\u001b[0m \u001b[0mret\u001b[0m \u001b[0;34m!=\u001b[0m \u001b[0;36m0\u001b[0m\u001b[0;34m:\u001b[0m\u001b[0;34m\u001b[0m\u001b[0;34m\u001b[0m\u001b[0m\n\u001b[0;32m--> 176\u001b[0;31m         \u001b[0;32mraise\u001b[0m \u001b[0mXGBoostError\u001b[0m\u001b[0;34m(\u001b[0m\u001b[0mpy_str\u001b[0m\u001b[0;34m(\u001b[0m\u001b[0m_LIB\u001b[0m\u001b[0;34m.\u001b[0m\u001b[0mXGBGetLastError\u001b[0m\u001b[0;34m(\u001b[0m\u001b[0;34m)\u001b[0m\u001b[0;34m)\u001b[0m\u001b[0;34m)\u001b[0m\u001b[0;34m\u001b[0m\u001b[0;34m\u001b[0m\u001b[0m\n\u001b[0m\u001b[1;32m    177\u001b[0m \u001b[0;34m\u001b[0m\u001b[0m\n\u001b[1;32m    178\u001b[0m \u001b[0;34m\u001b[0m\u001b[0m\n",
            "\u001b[0;31mXGBoostError\u001b[0m: [07:02:56] /workspace/src/metric/metric.cc:23: Unknown metric function accuracy\nStack trace:\n  [bt] (0) /usr/local/lib/python3.8/dist-packages/xgboost/./lib/libxgboost.so(xgboost::Metric::Create(std::string const&)+0x62d) [0x7ffb5737eebd]\n  [bt] (1) /usr/local/lib/python3.8/dist-packages/xgboost/./lib/libxgboost.so(xgboost::LearnerImpl::Configure(std::vector<std::pair<std::string, std::string>, std::allocator<std::pair<std::string, std::string> > > const&)+0x1120) [0x7ffb57361e90]\n  [bt] (2) /usr/local/lib/python3.8/dist-packages/xgboost/./lib/libxgboost.so(XGBoosterUpdateOneIter+0x76) [0x7ffb572c7ae6]\n  [bt] (3) /lib/x86_64-linux-gnu/libffi.so.7(+0x6ff5) [0x7ffbbca56ff5]\n  [bt] (4) /lib/x86_64-linux-gnu/libffi.so.7(+0x640a) [0x7ffbbca5640a]\n  [bt] (5) /usr/lib/python3.8/lib-dynload/_ctypes.cpython-38-x86_64-linux-gnu.so(_ctypes_callproc+0x5b6) [0x7ffbbba67306]\n  [bt] (6) /usr/lib/python3.8/lib-dynload/_ctypes.cpython-38-x86_64-linux-gnu.so(+0x139dc) [0x7ffbbba679dc]\n  [bt] (7) /usr/bin/python3(_PyObject_MakeTpCall+0x296) [0x5f6706]\n  [bt] (8) /usr/bin/python3(_PyEval_EvalFrameDefault+0x5db3) [0x571143]\n\n"
          ]
        }
      ]
    },
    {
      "cell_type": "code",
      "source": [
        "y_pred = pipe_xgb.predict(X_test)\n",
        "cm = confusion_matrix(y_test, y_pred)\n",
        "print(\"Confusion Matrix:\")\n",
        "print(cm)"
      ],
      "metadata": {
        "colab": {
          "base_uri": "https://localhost:8080/"
        },
        "id": "PVmXnTWRvDw2",
        "outputId": "d471ae42-da09-4ef6-99ae-e87442efb042"
      },
      "execution_count": null,
      "outputs": [
        {
          "output_type": "stream",
          "name": "stdout",
          "text": [
            "Confusion Matrix:\n",
            "[[13527  1819]\n",
            " [ 8187  3547]]\n"
          ]
        }
      ]
    },
    {
      "cell_type": "markdown",
      "source": [
        "tp 매우 높음!  -> 불균형 괜춘\n"
      ],
      "metadata": {
        "id": "OiNgV9Q5vz_V"
      }
    },
    {
      "cell_type": "code",
      "source": [
        "def summarize_results(y_test, y_pred):\n",
        "    \"\"\"\n",
        "    Summarizes the results of a binary classification model.\n",
        "    \"\"\"\n",
        "    acc = accuracy_score(y_test, y_pred)\n",
        "    precision = precision_score(y_test, y_pred)\n",
        "    recall = recall_score(y_test, y_pred)\n",
        "    f1 = f1_score(y_test, y_pred)\n",
        "    \n",
        "    print(\"Accuracy: {:.2f}\".format(acc))\n",
        "    print(\"Precision: {:.2f}\".format(precision))\n",
        "    print(\"Recall: {:.2f}\".format(recall))\n",
        "    print(\"F1 score: {:.2f}\".format(f1))\n",
        "\n",
        "summarize_results(y_test, y_pred)"
      ],
      "metadata": {
        "colab": {
          "base_uri": "https://localhost:8080/"
        },
        "id": "JY3MdpZGv_oF",
        "outputId": "615154c2-661d-4c1f-c5de-7a7018b232d2"
      },
      "execution_count": null,
      "outputs": [
        {
          "output_type": "stream",
          "name": "stdout",
          "text": [
            "Accuracy: 0.63\n",
            "Precision: 0.66\n",
            "Recall: 0.30\n",
            "F1 score: 0.41\n"
          ]
        }
      ]
    },
    {
      "cell_type": "markdown",
      "source": [
        "### Decision Tree\n",
        "\n",
        "Suitable for problems with non-linear relationships and a small number of features."
      ],
      "metadata": {
        "id": "6A4oDWnDAdV8"
      }
    },
    {
      "cell_type": "code",
      "source": [
        "# Decision Tree\n",
        "pipe_df = make_pipeline(\n",
        "    OrdinalEncoder(),\n",
        "    SimpleImputer(),\n",
        "    DecisionTreeClassifier(random_state=1, criterion=\"gini\", max_depth=10)\n",
        ")\n",
        "pipe_df.fit(X_train, y_train)\n",
        "prediction=pipe_df.predict(X_test)\n",
        "print('The accuracy of the Decision Tree is',accuracy_score(prediction,y_test))"
      ],
      "metadata": {
        "colab": {
          "base_uri": "https://localhost:8080/"
        },
        "id": "t9UFAWId85RJ",
        "outputId": "b933c3a5-0c20-4c44-fe14-b19514c1d643"
      },
      "execution_count": null,
      "outputs": [
        {
          "output_type": "stream",
          "name": "stdout",
          "text": [
            "The accuracy of the Decision Tree is 0.6294313146233382\n"
          ]
        }
      ]
    },
    {
      "cell_type": "markdown",
      "source": [
        "### LogisticRegression"
      ],
      "metadata": {
        "id": "JvL2LS1BAtFu"
      }
    },
    {
      "cell_type": "code",
      "source": [
        "# LogisticRegression\n",
        "pipe_lr = make_pipeline(\n",
        "    OrdinalEncoder(),\n",
        "    LogisticRegression(\n",
        "        random_state=42,\n",
        "        penalty='l2'\n",
        "    ),\n",
        ")\n",
        "pipe_lr.fit(X_train, y_train)\n",
        "prediction2=pipe_lr.predict(X_test)\n",
        "print('The accuracy of the Logistic Regression is',accuracy_score(prediction2,y_test))"
      ],
      "metadata": {
        "colab": {
          "base_uri": "https://localhost:8080/"
        },
        "id": "-n0XnaZg-Zhk",
        "outputId": "f0501525-75f6-4189-b999-180bcee79f92"
      },
      "execution_count": null,
      "outputs": [
        {
          "output_type": "stream",
          "name": "stdout",
          "text": [
            "The accuracy of the Logistic Regression is 0.6142540620384047\n"
          ]
        }
      ]
    },
    {
      "cell_type": "markdown",
      "source": [
        "density(=target)에 따라 인구 이동을 도모해야하는지 생각해보자"
      ],
      "metadata": {
        "id": "1ZLXnzB6xQhT"
      }
    },
    {
      "cell_type": "markdown",
      "source": [
        "### 추후 해야할 research\n",
        ">보건, 도시 환경(지하철, 빈집 여부..) 등 incidents occurred by rats에 관한 column 을 생성한 후 다시 관련여부를 파악하고 모델링 하기."
      ],
      "metadata": {
        "id": "tszvN4FJuxKZ"
      }
    }
  ]
}